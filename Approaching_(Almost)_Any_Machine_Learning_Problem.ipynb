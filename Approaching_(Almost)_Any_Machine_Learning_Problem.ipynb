{
  "nbformat": 4,
  "nbformat_minor": 0,
  "metadata": {
    "colab": {
      "name": "Approaching (Almost) Any Machine Learning Problem.ipynb",
      "provenance": [],
      "collapsed_sections": [],
      "authorship_tag": "ABX9TyOXaJaGODBBMcD2hYEUM+73",
      "include_colab_link": true
    },
    "kernelspec": {
      "name": "python3",
      "display_name": "Python 3"
    },
    "language_info": {
      "name": "python"
    }
  },
  "cells": [
    {
      "cell_type": "markdown",
      "metadata": {
        "id": "view-in-github",
        "colab_type": "text"
      },
      "source": [
        "<a href=\"https://colab.research.google.com/github/matsunori39/Approaching-Almost-Any-Machine-Learning-Problem/blob/main/Approaching_(Almost)_Any_Machine_Learning_Problem.ipynb\" target=\"_parent\"><img src=\"https://colab.research.google.com/assets/colab-badge.svg\" alt=\"Open In Colab\"/></a>"
      ]
    },
    {
      "cell_type": "markdown",
      "metadata": {
        "id": "zeZ9f_NUUlL5"
      },
      "source": [
        "# 第1章 教師あり学習と教師なし学習"
      ]
    },
    {
      "cell_type": "code",
      "metadata": {
        "id": "L_7jCOPoUuV_"
      },
      "source": [
        "import matplotlib.pyplot as plt\n",
        "import numpy as np\n",
        "import pandas as pd\n",
        "import seaborn as sns\n",
        "\n",
        "from sklearn import datasets\n",
        "from sklearn import manifold\n",
        "\n",
        "%matplotlib inline"
      ],
      "execution_count": 1,
      "outputs": []
    },
    {
      "cell_type": "code",
      "metadata": {
        "id": "vEZv62ecVQMn"
      },
      "source": [
        "data = datasets.fetch_openml(\n",
        "    'mnist_784',\n",
        "    version=1,\n",
        "    return_X_y=True\n",
        ")\n",
        "pixel_values, targets = data\n",
        "targets = targets.astype(int)"
      ],
      "execution_count": null,
      "outputs": []
    },
    {
      "cell_type": "code",
      "metadata": {
        "id": "yDjZPRTBVxZr"
      },
      "source": [
        "single_image = pixel_values[1, :].reshape(28, 28)\n",
        "\n",
        "plt.imshow(single_image, cmap='gray')"
      ],
      "execution_count": null,
      "outputs": []
    },
    {
      "cell_type": "code",
      "metadata": {
        "id": "K671dw-qV97p"
      },
      "source": [
        "tsne = manifold.TSNE(n_components=2, random_state=42)\n",
        "\n",
        "transformed_data = tsne.fit_transform(pixel_values[:3000, :])"
      ],
      "execution_count": null,
      "outputs": []
    },
    {
      "cell_type": "code",
      "metadata": {
        "id": "Uk-O036pWXz1"
      },
      "source": [
        "tsne_df = pd.DataFrame(\n",
        "    np.column_stack((transformed_data, targets[:3000])),\n",
        "    columns=[\"x\", \"y\", \"targets\"]\n",
        ")\n",
        "tsne_df.loc[:, \"targets\"] = tsne_df.targets.astype(int)"
      ],
      "execution_count": null,
      "outputs": []
    },
    {
      "cell_type": "code",
      "metadata": {
        "id": "Cy0RvGyJXUq0"
      },
      "source": [
        "grid = sns.FacetGrid(tsne_df, hue=\"targets\", size=8)\n",
        "\n",
        "grid.map(plt.scatter, \"x\", \"y\").add_legend()"
      ],
      "execution_count": null,
      "outputs": []
    },
    {
      "cell_type": "markdown",
      "metadata": {
        "id": "V6CaHelhpSqh"
      },
      "source": [
        "# 第2章 交差検証"
      ]
    },
    {
      "cell_type": "code",
      "metadata": {
        "id": "6VaCBYIbs849"
      },
      "source": [
        "!wget https://archive.ics.uci.edu/ml/machine-learning-databases/wine-quality/winequality-red.csv"
      ],
      "execution_count": null,
      "outputs": []
    },
    {
      "cell_type": "code",
      "metadata": {
        "id": "jumzqfsOpVSV"
      },
      "source": [
        "import pandas as pd\n",
        "# df = pd.read_csv(\"winequality-red.csv\")\n",
        "df = pd.read_csv(\"winequality-red.csv\", sep=';')"
      ],
      "execution_count": null,
      "outputs": []
    },
    {
      "cell_type": "code",
      "metadata": {
        "id": "pXo9EnPHtIpk"
      },
      "source": [
        "df"
      ],
      "execution_count": null,
      "outputs": []
    },
    {
      "cell_type": "code",
      "metadata": {
        "id": "OTkJZTq0tRD4"
      },
      "source": [
        "sorted(df.quality.unique())"
      ],
      "execution_count": null,
      "outputs": []
    },
    {
      "cell_type": "code",
      "metadata": {
        "id": "J-MjRzUF_GbQ"
      },
      "source": [
        "# 品質値の対応表となる辞書\n",
        "quality_mapping = {\n",
        "    3: 0,\n",
        "    4: 1,\n",
        "    5: 2,\n",
        "    6: 3,\n",
        "    7: 4,\n",
        "    8: 5\n",
        "}\n",
        "# pandasのmapを用いることで、与えられた辞書に基づき値を変換できる\n",
        "df.loc[:, \"quality\"] = df.quality.map(quality_mapping)"
      ],
      "execution_count": null,
      "outputs": []
    },
    {
      "cell_type": "code",
      "metadata": {
        "id": "lq0KVqwD_tEK"
      },
      "source": [
        "df.quality.unique()"
      ],
      "execution_count": null,
      "outputs": []
    },
    {
      "cell_type": "code",
      "metadata": {
        "id": "-QfQzhPk_5SZ"
      },
      "source": [
        "# sampleの引数にfrac=1を指定して、データフレームをシャッフル\n",
        "# インデックスをリセットする必要あり\n",
        "df = df.sample(frac=1).reset_index(drop=True)\n",
        "\n",
        "# 上位1000個は学習用\n",
        "df_train = df.head(1000)\n",
        "\n",
        "# 下位599個は検証用\n",
        "df_test = df.tail(599)"
      ],
      "execution_count": null,
      "outputs": []
    },
    {
      "cell_type": "code",
      "metadata": {
        "id": "-u7AflVPAXre"
      },
      "source": [
        "# ライブラリの読み込み\n",
        "from sklearn import tree\n",
        "from sklearn import metrics\n",
        "\n",
        "# 決定木分類器の初期化\n",
        "# max_depthは3に設定\n",
        "clf = tree.DecisionTreeClassifier(max_depth=3)\n",
        "\n",
        "# 学習に利用する特徴量を指定\n",
        "cols = ['fixed acidity',\n",
        "        'volatile acidity',\n",
        "        'citric acid',\n",
        "        'residual sugar',\n",
        "        'chlorides',\n",
        "        'free sulfur dioxide',\n",
        "        'total sulfur dioxide',\n",
        "        'density',\n",
        "        'pH',\n",
        "        'sulphates',\n",
        "        'alcohol']\n",
        "\n",
        "# 与えられた特徴量と対応する目的変数をモデルで学習\n",
        "clf.fit(df_train[cols], df_train.quality)"
      ],
      "execution_count": null,
      "outputs": []
    },
    {
      "cell_type": "code",
      "metadata": {
        "id": "Ja9oBc4CBjXs"
      },
      "source": [
        "# 学習用データセットに対する予測\n",
        "train_predictions = clf.predict(df_train[cols])\n",
        "# 検証用データセットに対する予測\n",
        "test_predictions = clf.predict(df_test[cols])\n",
        "# 学習用データセットに対する正答率\n",
        "train_accuracy = metrics.accuracy_score(\n",
        "    df_train.quality, train_predictions\n",
        ")\n",
        "# 検証用データセットに対する正答率\n",
        "test_accuracy = metrics.accuracy_score(\n",
        "    df_test.quality, test_predictions\n",
        ")"
      ],
      "execution_count": null,
      "outputs": []
    },
    {
      "cell_type": "code",
      "metadata": {
        "id": "hZ-3lM5tCRXD"
      },
      "source": [
        "print('max_depth=3')\n",
        "print(train_accuracy)\n",
        "print(test_accuracy)"
      ],
      "execution_count": null,
      "outputs": []
    },
    {
      "cell_type": "code",
      "metadata": {
        "id": "7xmJa8ZtCdhp"
      },
      "source": [
        "print('max_depth=7')\n",
        "print(train_accuracy)\n",
        "print(test_accuracy)"
      ],
      "execution_count": null,
      "outputs": []
    },
    {
      "cell_type": "code",
      "metadata": {
        "id": "NDzC0PFaDPsT"
      },
      "source": [
        "# scikit-learnライブラリの読み込み\n",
        "from sklearn import tree\n",
        "from sklearn import metrics\n",
        "# 可視化のためのmatplotlibとseabornライブラリの読み込み\n",
        "import matplotlib\n",
        "import matplotlib.pyplot as plt\n",
        "import seaborn as sns\n",
        "\n",
        "# テキストのフォントサイズの設定\n",
        "matplotlib.rc('xtick', labelsize=20)\n",
        "matplotlib.rc('ytick', labelsize=20)\n",
        "\n",
        "# Jupyter Notebook内に画像を表示\n",
        "%matplotlib inline\n",
        "\n",
        "# 正答率を保存していくためのリストの初期化\n",
        "# 学習用と検証用の2つを用意し、共に初期値は0.5とする\n",
        "train_accuracies = [0.5]\n",
        "test_accuracies = [0.5]\n",
        "\n",
        "# さまざまなdepthに対して繰り返す\n",
        "for depth in range(1, 25):\n",
        "  # モデルの初期化\n",
        "  clf = tree.DecisionTreeClassifier(max_depth=depth)\n",
        "  # 学習に利用する特徴量を指定\n",
        "  # この部分はループの外で実行可能\n",
        "  cols = [\n",
        "        'fixed acidity',\n",
        "        'volatile acidity',\n",
        "        'citric acid',\n",
        "        'residual sugar',\n",
        "        'chlorides',\n",
        "        'free sulfur dioxide',\n",
        "        'total sulfur dioxide',\n",
        "        'density',\n",
        "        'pH',\n",
        "        'sulphates',\n",
        "        'alcohol'\n",
        "  ]\n",
        "  # 与えられた特徴量と対応する目的変数でモデルを学習\n",
        "  clf.fit(df_train[cols], df_train.quality)\n",
        "\n",
        "  # 学習用と検証用データセットに対する予測\n",
        "  train_predictions = clf.predict(df_train[cols])\n",
        "  test_predictions = clf.predict(df_test[cols])\n",
        "  # 学習用と検証用データセットに対する正答率を計算\n",
        "  train_accuracy = metrics.accuracy_score(\n",
        "      df_train.quality, train_predictions\n",
        "  )\n",
        "  test_accuracy = metrics.accuracy_score(\n",
        "      df_test.quality, test_predictions\n",
        "  )\n",
        "  # リストに計算結果を追加\n",
        "  train_accuracies.append(train_accuracy)\n",
        "  test_accuracies.append(test_accuracy)\n",
        "\n",
        "# matplotlib と seaborn による可視化\n",
        "plt.figure(figsize=(10, 5))\n",
        "sns.set_style(\"whitegrid\")\n",
        "plt.plot(train_accuracies, label=\"train accuracy\")\n",
        "plt.plot(test_accuracies, label=\"test accuracy\")\n",
        "plt.legend(loc=\"upper left\", prop={'size': 15})\n",
        "plt.xticks(range(0, 26, 5))\n",
        "plt.xlabel(\"max_depth\", size=20)\n",
        "plt.ylabel(\"accuracy\", size=20)\n",
        "plt.show()"
      ],
      "execution_count": null,
      "outputs": []
    },
    {
      "cell_type": "code",
      "metadata": {
        "id": "YzeGxfvNgT_7"
      },
      "source": [
        "\"\"\"\n",
        "# pandas と scikit-learn の model_selection の読み込み\n",
        "import pandas as pd\n",
        "from sklearn import model_selection\n",
        "\n",
        "if __name__ == \"__main__\":\n",
        "  # 学習用データセットはtrain.csvというCSVファイルになっている\n",
        "  df = pd.read_csv(\"train.csv\")\n",
        "  \n",
        "  # kfoldという新しい列を作り、-1で初期化\n",
        "  df[\"kfold\"] = -1\n",
        "\n",
        "  # サンプルをシャッフル\n",
        "  df = df.sample(frac=1).reset_index(drop=True)\n",
        "\n",
        "  # 目的変数を取り出す\n",
        "  y = df.target.values\n",
        "\n",
        "  # StratifiedKFoldクラスの初期化\n",
        "  kf = model_selection.StratifiedKFold(n_splits=5)\n",
        "\n",
        "  # kfold列を埋める\n",
        "  for f, (t_, v_) in enumerate(kf.split(X=df, y=y)):\n",
        "    df.loc[v_, 'kfold'] = f\n",
        "  \n",
        "  # データセットを新しい列と共に保存\n",
        "  df.to_csv(\"train_folds.csv\", index=False)\n",
        "\"\"\""
      ],
      "execution_count": null,
      "outputs": []
    },
    {
      "cell_type": "code",
      "metadata": {
        "id": "Wr1DXfCyicyG"
      },
      "source": [
        "b = sns.countplot(x='quality', data=df)\n",
        "b.set_xlabel(\"quality\", fontsize=20)\n",
        "b.set_ylabel(\"count\", fontsize=20)"
      ],
      "execution_count": null,
      "outputs": []
    },
    {
      "cell_type": "code",
      "metadata": {
        "id": "7MSFDJGEjZxn"
      },
      "source": [
        "# 回帰問題でのstratfied k-fold\n",
        "import numpy as np\n",
        "import pandas as pd\n",
        "\n",
        "from sklearn import datasets\n",
        "from sklearn import model_selection\n",
        "\n",
        "def create_folds(data):\n",
        "  # kfoldという新しい列を作り、-1で初期化\n",
        "  data[\"kfold\"] = -1\n",
        "\n",
        "  # サンプルをシャッフル\n",
        "  data = data.sample(frac=1).reset_index(drop=True)\n",
        "\n",
        "  # スタージェスの公式に基づき、ビン数を計算\n",
        "  # 小数点以下を切り捨て、値をint型に変換する\n",
        "  num_bins = int(np.floor(1 + np.log2(len(data))))\n",
        "\n",
        "  # 目的変数をビンに変換\n",
        "  data.loc[:, \"bins\"] = pd.cut(\n",
        "      data[\"target\"], bins=num_bins, labels=False\n",
        "  )\n",
        "\n",
        "  # StratifiedKFoldクラスの初期化\n",
        "  kf = model_selection.StratifiedKFold(n_splits=5)\n",
        "\n",
        "  # kfold列を埋める\n",
        "  # 目的変数そのものではなく、ビンの値を利用\n",
        "  for f, (t_, v_) in enumerate(kf.split(X=data, y=data.bins.values)):\n",
        "    data.loc[v_, 'kfold'] = f\n",
        "\n",
        "  # ビンの列を削除\n",
        "  data = data.drop(\"bins\", axis=1)\n",
        "  # データセットを新しい列と共に返却\n",
        "  return data\n",
        "\n",
        "if __name__ == \"__main__\":\n",
        "  # 15000サンプルの回帰データセットを作成\n",
        "  # 特徴量は100列で目的変数は1列\n",
        "  X, y = datasets.make_regression(\n",
        "      n_samples=15000, n_features=100, n_targets=1\n",
        "  )\n",
        "\n",
        "  # 特徴量をpandasのデータフレームに変換\n",
        "  df = pd.DataFrame(\n",
        "      X,\n",
        "      columns=[f\"f_{i}\" for i in range(X.shape[1])]\n",
        "  )\n",
        "  df.loc[:, \"target\"] = y\n",
        "\n",
        "  # 分割を作成\n",
        "  df = create_folds(df)"
      ],
      "execution_count": null,
      "outputs": []
    },
    {
      "cell_type": "markdown",
      "metadata": {
        "id": "1mZnzzuWD8Go"
      },
      "source": [
        "# 第3章 評価指標"
      ]
    },
    {
      "cell_type": "code",
      "metadata": {
        "id": "W3gWvnfcEEib"
      },
      "source": [
        "def accuracy(y_true, y_pred):\n",
        "  \"\"\"\n",
        "  正答率を計算する関数\n",
        "  :param y_true: 正解のリスト\n",
        "  :param y_pred: 予測値のリスト\n",
        "  :return: 正答率\n",
        "  \"\"\"\n",
        "  # 正解した予測値の数を保存する変数\n",
        "  correct_counter = 0\n",
        "  # すべてのサンプルについて確認\n",
        "  for yt, yp in zip(y_true, y_pred):\n",
        "    if yt == yp:\n",
        "      # 正解と予測値が等しい場合は1を加算\n",
        "      correct_counter += 1\n",
        "\n",
        "  # 正答率を返す\n",
        "  return correct_counter / len(y_true)"
      ],
      "execution_count": 4,
      "outputs": []
    },
    {
      "cell_type": "code",
      "metadata": {
        "id": "sxAqEObUFbId",
        "colab": {
          "base_uri": "https://localhost:8080/"
        },
        "outputId": "292e5beb-7e2c-4afe-f76d-96a414f667e5"
      },
      "source": [
        "from sklearn import metrics\n",
        "l1 = [0,1,1,1,0,0,0,1]\n",
        "l2 = [0,1,0,1,0,1,0,0]\n",
        "metrics.accuracy_score(l1, l2)"
      ],
      "execution_count": 5,
      "outputs": [
        {
          "output_type": "execute_result",
          "data": {
            "text/plain": [
              "0.625"
            ]
          },
          "metadata": {},
          "execution_count": 5
        }
      ]
    },
    {
      "cell_type": "code",
      "metadata": {
        "id": "pqL2rK-1ttpf"
      },
      "source": [
        "def true_positive(y_true, y_pred):\n",
        "  \"\"\"\n",
        "  真陽性を計算する関数\n",
        "  :param y_true: 正解のリスト\n",
        "  :param y_pred: 予測値のリスト\n",
        "  :return: 真陽性の数\n",
        "  \"\"\"\n",
        "  # 初期化\n",
        "  tp = 0\n",
        "  for yt, yp in zip(y_true, y_pred):\n",
        "    if yt == 1 and yp == 1:\n",
        "      tp += 1\n",
        "  return tp\n",
        "\n",
        "def true_negative(y_true, y_pred):\n",
        "  \"\"\"\n",
        "  真陰性を計算する関数\n",
        "  :param y_true: 正解のリスト\n",
        "  :param y_pred: 予測値のリスト\n",
        "  :return: 真陰性の数\n",
        "  \"\"\"\n",
        "  # 初期化\n",
        "  tn = 0\n",
        "  for yt, yp in zip(y_true, y_pred):\n",
        "    if yt == 0 and yp == 0:\n",
        "      tn += 1\n",
        "  return tn\n",
        "\n",
        "def false_positive(y_true, y_pred):\n",
        "  \"\"\"\n",
        "  偽陽性を計算する関数\n",
        "  :param y_true: 正解のリスト\n",
        "  :param y_pred: 予測値のリスト\n",
        "  :return: 偽陽性の数\n",
        "  \"\"\"\n",
        "  # 初期化\n",
        "  fp = 0\n",
        "  for yt, yp in zip(y_true, y_pred):\n",
        "    if yt == 0 and yp == 1:\n",
        "      fp += 1\n",
        "  return fp\n",
        "\n",
        "def false_negative(y_true, y_pred):\n",
        "  \"\"\"\n",
        "  偽陰性を計算する関数\n",
        "  :param y_true: 正解のリスト\n",
        "  :param y_pred: 予測値のリスト\n",
        "  :return: 偽陰性の数\n",
        "  \"\"\"\n",
        "  # 初期化\n",
        "  fn = 0\n",
        "  for yt, yp in zip(y_true, y_pred):\n",
        "    if yt == 1 and yp == 0:\n",
        "      fn += 1\n",
        "  return fn"
      ],
      "execution_count": 6,
      "outputs": []
    },
    {
      "cell_type": "code",
      "metadata": {
        "id": "edF0AtETuwXG"
      },
      "source": [
        "l1 = [0,1,1,1,0,0,0,1]\n",
        "l2 = [0,1,0,1,0,1,0,0]"
      ],
      "execution_count": 7,
      "outputs": []
    },
    {
      "cell_type": "code",
      "metadata": {
        "id": "vaKGt58Gu4kj",
        "colab": {
          "base_uri": "https://localhost:8080/"
        },
        "outputId": "99bf2579-0180-46c8-f555-55ceaa56f96b"
      },
      "source": [
        "true_positive(l1, l2)"
      ],
      "execution_count": 8,
      "outputs": [
        {
          "output_type": "execute_result",
          "data": {
            "text/plain": [
              "2"
            ]
          },
          "metadata": {},
          "execution_count": 8
        }
      ]
    },
    {
      "cell_type": "code",
      "metadata": {
        "id": "TANSiRHzu8N-",
        "colab": {
          "base_uri": "https://localhost:8080/"
        },
        "outputId": "fc3afe23-5923-4d38-a708-b58543ab24c5"
      },
      "source": [
        "false_positive(l1, l2)"
      ],
      "execution_count": 9,
      "outputs": [
        {
          "output_type": "execute_result",
          "data": {
            "text/plain": [
              "1"
            ]
          },
          "metadata": {},
          "execution_count": 9
        }
      ]
    },
    {
      "cell_type": "code",
      "metadata": {
        "id": "5ivHIjZNu-8M",
        "colab": {
          "base_uri": "https://localhost:8080/"
        },
        "outputId": "02ee0301-3007-4f0c-8f39-4bebefda0d25"
      },
      "source": [
        "false_negative(l1, l2)"
      ],
      "execution_count": 10,
      "outputs": [
        {
          "output_type": "execute_result",
          "data": {
            "text/plain": [
              "2"
            ]
          },
          "metadata": {},
          "execution_count": 10
        }
      ]
    },
    {
      "cell_type": "code",
      "metadata": {
        "id": "OdH2c-vgvEFi",
        "colab": {
          "base_uri": "https://localhost:8080/"
        },
        "outputId": "03f98052-a93f-4bac-fd2e-c30558bd49d5"
      },
      "source": [
        "true_negative(l1, l2)"
      ],
      "execution_count": 11,
      "outputs": [
        {
          "output_type": "execute_result",
          "data": {
            "text/plain": [
              "3"
            ]
          },
          "metadata": {},
          "execution_count": 11
        }
      ]
    },
    {
      "cell_type": "code",
      "metadata": {
        "id": "S3QitLzphpPS"
      },
      "source": [
        "def accuracy_v2(y_true, y_pred):\n",
        "  \"\"\"\n",
        "  真陽性、真陰性、偽陽性、偽陰性を用いて正答率を計算する関数\n",
        "  :param y_true: 正解のリスト\n",
        "  :param y_pred: 予測値のリスト\n",
        "  :return: 正答率\n",
        "  \"\"\"\n",
        "  tp = true_positive(y_true, y_pred)\n",
        "  fp = false_positive(y_true, y_pred)\n",
        "  fn = false_negative(y_true, y_pred)\n",
        "  tn = true_negative(y_true, y_pred)\n",
        "  accuracy_score = (tp + tn) / (tp + tn + fp + fn)\n",
        "  return accuracy_score"
      ],
      "execution_count": 12,
      "outputs": []
    },
    {
      "cell_type": "code",
      "metadata": {
        "id": "kEYG6zh3ia14"
      },
      "source": [
        "l1 = [0,1,1,1,0,0,0,1]\n",
        "l2 = [0,1,0,1,0,1,0,0]"
      ],
      "execution_count": 13,
      "outputs": []
    },
    {
      "cell_type": "code",
      "metadata": {
        "id": "B4IFM37Eif0k",
        "colab": {
          "base_uri": "https://localhost:8080/"
        },
        "outputId": "adcebd7f-a2dd-4b16-f407-2871de64f942"
      },
      "source": [
        "accuracy(l1, l2)"
      ],
      "execution_count": 14,
      "outputs": [
        {
          "output_type": "execute_result",
          "data": {
            "text/plain": [
              "0.625"
            ]
          },
          "metadata": {},
          "execution_count": 14
        }
      ]
    },
    {
      "cell_type": "code",
      "metadata": {
        "id": "YOjhaNfrii2W",
        "colab": {
          "base_uri": "https://localhost:8080/"
        },
        "outputId": "0412df40-89c7-40fc-9423-143541ad4903"
      },
      "source": [
        "accuracy_v2(l1, l2)"
      ],
      "execution_count": 15,
      "outputs": [
        {
          "output_type": "execute_result",
          "data": {
            "text/plain": [
              "0.625"
            ]
          },
          "metadata": {},
          "execution_count": 15
        }
      ]
    },
    {
      "cell_type": "code",
      "metadata": {
        "id": "D1kJglDDimET",
        "colab": {
          "base_uri": "https://localhost:8080/"
        },
        "outputId": "e97f0286-4f99-486c-fa35-0e0357e7ef90"
      },
      "source": [
        "metrics.accuracy_score(l1, l2)"
      ],
      "execution_count": 16,
      "outputs": [
        {
          "output_type": "execute_result",
          "data": {
            "text/plain": [
              "0.625"
            ]
          },
          "metadata": {},
          "execution_count": 16
        }
      ]
    },
    {
      "cell_type": "code",
      "metadata": {
        "id": "ecSh6uuLi8mA"
      },
      "source": [
        "def precision(y_true, y_pred):\n",
        "  \"\"\"\n",
        "  適合率を計算する関数\n",
        "  :param y_true: 正解のリスト\n",
        "  :param y_pred: 予測値のリスト\n",
        "  :return: 適合率\n",
        "  \"\"\"\n",
        "  tp = true_positive(y_true, y_pred)\n",
        "  fp = false_positive(y_true, y_pred)\n",
        "  precision = tp / (tp + fp)\n",
        "  return precision"
      ],
      "execution_count": 17,
      "outputs": []
    },
    {
      "cell_type": "code",
      "metadata": {
        "id": "N0BSxPMrjQYU"
      },
      "source": [
        "l1 = [0,1,1,1,0,0,0,1]\n",
        "l2 = [0,1,0,1,0,1,0,0]"
      ],
      "execution_count": 18,
      "outputs": []
    },
    {
      "cell_type": "code",
      "metadata": {
        "id": "qTeEAtx_jR0D",
        "colab": {
          "base_uri": "https://localhost:8080/"
        },
        "outputId": "76e4b9af-8ccd-4e98-d0b8-f79bed12be2a"
      },
      "source": [
        "precision(l1, l2)"
      ],
      "execution_count": 19,
      "outputs": [
        {
          "output_type": "execute_result",
          "data": {
            "text/plain": [
              "0.6666666666666666"
            ]
          },
          "metadata": {},
          "execution_count": 19
        }
      ]
    },
    {
      "cell_type": "code",
      "metadata": {
        "id": "0talLmOQjhRx"
      },
      "source": [
        "def recall(y_true, y_pred):\n",
        "  \"\"\"\n",
        "  再現率を計算する関数\n",
        "  :param y_true: 正解のリスト\n",
        "  :param y_pred: 予測値のリスト\n",
        "  :return: 再現率\n",
        "  \"\"\"\n",
        "  tp = true_positive(y_true, y_pred)\n",
        "  fn = false_negative(y_true, y_pred)\n",
        "  recall = tp / (tp + fn)\n",
        "  return recall"
      ],
      "execution_count": 20,
      "outputs": []
    },
    {
      "cell_type": "code",
      "metadata": {
        "id": "u3NkWuztjtWN"
      },
      "source": [
        "l1 = [0,1,1,1,0,0,0,1]\n",
        "l2 = [0,1,0,1,0,1,0,0]"
      ],
      "execution_count": 21,
      "outputs": []
    },
    {
      "cell_type": "code",
      "metadata": {
        "id": "ldarOxvAjvK1",
        "colab": {
          "base_uri": "https://localhost:8080/"
        },
        "outputId": "72b92df6-3861-4e55-ee74-6835026b23c8"
      },
      "source": [
        "recall(l1, l2)"
      ],
      "execution_count": 22,
      "outputs": [
        {
          "output_type": "execute_result",
          "data": {
            "text/plain": [
              "0.5"
            ]
          },
          "metadata": {},
          "execution_count": 22
        }
      ]
    },
    {
      "cell_type": "code",
      "metadata": {
        "id": "UpEmLfB2-emw"
      },
      "source": [
        "y_true = [0, 0, 0, 1, 0, 0, 0, 0, 0, 0,\n",
        "          1, 0, 0, 0, 0, 0, 0, 0, 1, 0]"
      ],
      "execution_count": 23,
      "outputs": []
    },
    {
      "cell_type": "code",
      "metadata": {
        "id": "f4qGiV3K-ubo"
      },
      "source": [
        "y_pred = [0.02638412, 0.11114267, 0.31620708,\n",
        "          0.0490937, 0.0191491, 0.17554844,\n",
        "          0.15952202, 0.03819563, 0.11639273,\n",
        "          0.079377, 0.08584789, 0.39095342,\n",
        "          0.27259048, 0.03447096, 0.04644807,\n",
        "          0.03543574, 0.18521942, 0.05934905,\n",
        "          0.61977213, 0.33056815]"
      ],
      "execution_count": 24,
      "outputs": []
    },
    {
      "cell_type": "code",
      "metadata": {
        "id": "fbY2KvyD_dkR"
      },
      "source": [
        "precisions = []\n",
        "recalls = []\n",
        "# 次の閾値を対象とする\n",
        "thresholds = [0.0490937 , 0.05934905, 0.079377,\n",
        "              0.08584789, 0.11114267, 0.11639273,\n",
        "              0.15952202, 0.17554844, 0.18521942,\n",
        "              0.27259048, 0.31620708, 0.33056815,\n",
        "              0.39095342, 0.61977213]\n",
        "\n",
        "# それぞれの閾値について、予測値を0か1に変換した後、適合率と再現値を計算\n",
        "# 計算結果はそれぞれのリストに格納\n",
        "for i in thresholds:\n",
        "  temp_prediction = [1 if x >= i else 0 for x in y_pred]\n",
        "  p = precision(y_true, temp_prediction)\n",
        "  r = recall(y_true, temp_prediction)\n",
        "  precisions.append(p)\n",
        "  recalls.append(r)"
      ],
      "execution_count": 25,
      "outputs": []
    },
    {
      "cell_type": "code",
      "metadata": {
        "id": "Yga-7ytEBF3m",
        "colab": {
          "base_uri": "https://localhost:8080/",
          "height": 465
        },
        "outputId": "3273c97f-279b-4b3a-ceed-0a5336a3edf0"
      },
      "source": [
        "plt.figure(figsize=(7, 7))\n",
        "plt.plot(recalls, precisions)\n",
        "plt.xlabel('Recall', fontsize=15)\n",
        "plt.ylabel('Precision', fontsize=15)"
      ],
      "execution_count": 26,
      "outputs": [
        {
          "output_type": "execute_result",
          "data": {
            "text/plain": [
              "Text(0, 0.5, 'Precision')"
            ]
          },
          "metadata": {},
          "execution_count": 26
        },
        {
          "output_type": "display_data",
          "data": {
            "image/png": "[encoded data removed]",
            "text/plain": [
              "<Figure size 504x504 with 1 Axes>"
            ]
          },
          "metadata": {
            "needs_background": "light"
          }
        }
      ]
    },
    {
      "cell_type": "code",
      "metadata": {
        "id": "uEJn20a8M0aJ"
      },
      "source": [
        "def f1(y_true, y_pred):\n",
        "  \"\"\"\n",
        "  F1スコアを計算する関数\n",
        "  :param y_true: 正解のリスト\n",
        "  :param y_pred: 予測値のリスト\n",
        "  :return: F1スコア\n",
        "  \"\"\"\n",
        "  p = precision(y_true, y_pred)\n",
        "  r = recall(y_true, y_pred)\n",
        "\n",
        "  score = 2 * p * r / (p + r)\n",
        "\n",
        "  return score"
      ],
      "execution_count": 27,
      "outputs": []
    },
    {
      "cell_type": "code",
      "metadata": {
        "id": "YLN1I36eNSFh"
      },
      "source": [
        "y_true = [0, 0, 0, 1, 0, 0, 0, 0, 0, 0,\n",
        "          1, 0, 0, 0, 0, 0, 0, 0, 1, 0]"
      ],
      "execution_count": 28,
      "outputs": []
    },
    {
      "cell_type": "code",
      "metadata": {
        "id": "toXn4FpnNT4c"
      },
      "source": [
        "y_pred = [0, 0, 1, 0, 0, 0, 1, 0, 0, 0,\n",
        "          1, 0, 0, 0, 0, 0, 0, 0, 1, 0]"
      ],
      "execution_count": 29,
      "outputs": []
    },
    {
      "cell_type": "code",
      "metadata": {
        "id": "BxTP7eNQNmEi",
        "colab": {
          "base_uri": "https://localhost:8080/"
        },
        "outputId": "42261ee7-4ce6-476d-9682-ff1b5767a4ee"
      },
      "source": [
        "f1(y_true, y_pred)"
      ],
      "execution_count": 30,
      "outputs": [
        {
          "output_type": "execute_result",
          "data": {
            "text/plain": [
              "0.5714285714285715"
            ]
          },
          "metadata": {},
          "execution_count": 30
        }
      ]
    },
    {
      "cell_type": "code",
      "metadata": {
        "id": "4WEOaMxRNsQp",
        "colab": {
          "base_uri": "https://localhost:8080/"
        },
        "outputId": "9123256c-6a5d-4037-c5b4-22e5b828a645"
      },
      "source": [
        "from sklearn import metrics\n",
        "metrics.f1_score(y_true, y_pred)"
      ],
      "execution_count": 31,
      "outputs": [
        {
          "output_type": "execute_result",
          "data": {
            "text/plain": [
              "0.5714285714285715"
            ]
          },
          "metadata": {},
          "execution_count": 31
        }
      ]
    },
    {
      "cell_type": "code",
      "metadata": {
        "id": "ihCc8TCjGhwN"
      },
      "source": [
        "def tpr(y_true, y_pred):\n",
        "  \"\"\"\n",
        "  TPRスコアを計算する関数\n",
        "  :param y_true: 正解のリスト\n",
        "  :param y_pred: 予測値のリスト\n",
        "  :return: TPR\n",
        "  \"\"\"\n",
        "  return recall(y_true, y_pred)"
      ],
      "execution_count": 32,
      "outputs": []
    },
    {
      "cell_type": "code",
      "metadata": {
        "id": "TRVJur0hGwVY"
      },
      "source": [
        "def fpr(y_true, y_pred):\n",
        "  \"\"\"\n",
        "  FPRスコアを計算する関数\n",
        "  :param y_true: 正解のリスト\n",
        "  :param y_pred: 予測値のリスト\n",
        "  :return: FPR\n",
        "  \"\"\"\n",
        "  fp = false_positive(y_true, y_pred)\n",
        "  tn = true_negative(y_true, y_pred)\n",
        "  return fp / (tn + fp)"
      ],
      "execution_count": 33,
      "outputs": []
    },
    {
      "cell_type": "code",
      "metadata": {
        "id": "z5n6OTcmHE07"
      },
      "source": [
        "# TPRとFPRの値を格納するリスト\n",
        "tpr_list = []\n",
        "fpr_list = []\n",
        "\n",
        "# 正解\n",
        "y_true = [0, 0, 0, 0, 1, 0, 1,\n",
        "          0, 0, 1, 0, 1, 0, 0, 1]\n",
        "\n",
        "# 陽性の予測確率\n",
        "y_pred = [0.1, 0.3, 0.2, 0.6, 0.8, 0.05,\n",
        "          0.9, 0.5, 0.3, 0.66, 0.3, 0.2,\n",
        "          0.85, 0.15, 0.99]\n",
        "\n",
        "# 閾値\n",
        "thresholds = [0, 0.1, 0.2, 0.3, 0.4, 0.5,\n",
        "              0.6, 0.7, 0.8, 0.85, 0.9, 0.99, 1.0]\n",
        "\n",
        "# それぞれの閾値についてのループ\n",
        "for thresh in thresholds:\n",
        "  # 閾値に基づき予測確率を0か1に変換\n",
        "  temp_pred = [1 if x >= thresh else 0 for x in y_pred]\n",
        "  # TPRを計算\n",
        "  temp_tpr = tpr(y_true, temp_pred)\n",
        "  # FPRを計算\n",
        "  temp_fpr = fpr(y_true, temp_pred)\n",
        "  # TPRとFPRをリストに格納\n",
        "  tpr_list.append(temp_tpr)\n",
        "  fpr_list.append(temp_fpr)"
      ],
      "execution_count": 34,
      "outputs": []
    },
    {
      "cell_type": "code",
      "metadata": {
        "id": "gHQDM1JmImTK",
        "colab": {
          "base_uri": "https://localhost:8080/",
          "height": 451
        },
        "outputId": "c4365053-a24d-4b8e-82e4-f0ed7ef66ed8"
      },
      "source": [
        "plt.figure(figsize=(7, 7))\n",
        "plt.fill_between(fpr_list, tpr_list, alpha=0.4)\n",
        "plt.plot(fpr_list, tpr_list, lw=3)\n",
        "plt.xlim(0, 1.0)\n",
        "plt.ylim(0, 1.0)\n",
        "plt.xlabel('FPR', fontsize=15)\n",
        "plt.ylabel('TPR', fontsize=15)\n",
        "plt.show()"
      ],
      "execution_count": 35,
      "outputs": [
        {
          "output_type": "display_data",
          "data": {
            "image/png": "[encoded data removed]",
            "text/plain": [
              "<Figure size 504x504 with 1 Axes>"
            ]
          },
          "metadata": {
            "needs_background": "light"
          }
        }
      ]
    },
    {
      "cell_type": "code",
      "metadata": {
        "id": "Kah-xwj2JH6S"
      },
      "source": [
        "from sklearn import metrics"
      ],
      "execution_count": 36,
      "outputs": []
    },
    {
      "cell_type": "code",
      "metadata": {
        "id": "x1lCC4EPJKqw"
      },
      "source": [
        "y_true = [0, 0, 0, 0, 1, 0, 1,\n",
        "          0, 0, 1, 0, 1, 0, 0, 1]"
      ],
      "execution_count": 37,
      "outputs": []
    },
    {
      "cell_type": "code",
      "metadata": {
        "id": "aIDj7kUKJPzk"
      },
      "source": [
        "y_pred = [0.1, 0.3, 0.2, 0.6, 0.8, 0.05,\n",
        "          0.9, 0.5, 0.3, 0.66, 0.3, 0.2,\n",
        "          0.85, 0.15, 0.99]"
      ],
      "execution_count": 38,
      "outputs": []
    },
    {
      "cell_type": "code",
      "metadata": {
        "id": "fXIO4safJR9F",
        "colab": {
          "base_uri": "https://localhost:8080/"
        },
        "outputId": "61b72e9a-be97-4e55-80e6-c98664590e0c"
      },
      "source": [
        "metrics.roc_auc_score(y_true, y_pred)"
      ],
      "execution_count": 39,
      "outputs": [
        {
          "output_type": "execute_result",
          "data": {
            "text/plain": [
              "0.8300000000000001"
            ]
          },
          "metadata": {},
          "execution_count": 39
        }
      ]
    },
    {
      "cell_type": "code",
      "metadata": {
        "id": "2twj5MzJJvxH"
      },
      "source": [
        "# 真陽性と偽陽性の値を格納するリスト\n",
        "tp_list = []\n",
        "fp_list = []\n",
        "\n",
        "# 正解\n",
        "y_true = [0, 0, 0, 0, 1, 0, 1,\n",
        "          0, 0, 1, 0, 1, 0, 0, 1]\n",
        "\n",
        "# 陽性の予測確率\n",
        "y_pred = [0.1, 0.3, 0.2, 0.6, 0.8, 0.05,\n",
        "          0.9, 0.5, 0.3, 0.66, 0.3, 0.2,\n",
        "          0.85, 0.15, 0.99]\n",
        "\n",
        "# 閾値\n",
        "thresholds = [0, 0.1, 0.2, 0.3, 0.4, 0.5,\n",
        "              0.6, 0.7, 0.8, 0.85, 0.9, 0.99, 1.0]\n",
        "\n",
        "# それぞれの閾値についてのループ\n",
        "for thresh in thresholds:\n",
        "  # 閾値に基づき予測確率を0か1に変換\n",
        "  temp_pred = [1 if x >= thresh else 0 for x in y_pred]\n",
        "  # TPRを計算\n",
        "  temp_tp = true_positive(y_true, temp_pred)\n",
        "  # FPRを計算\n",
        "  temp_fp = false_positive(y_true, temp_pred)\n",
        "  # 真陽性と偽陽性をリストに格納\n",
        "  tp_list.append(temp_tp)\n",
        "  fp_list.append(temp_fp)"
      ],
      "execution_count": 40,
      "outputs": []
    },
    {
      "cell_type": "code",
      "metadata": {
        "id": "-bnVOWysLFbW"
      },
      "source": [
        "import numpy as np\n",
        "\n",
        "def log_loss(y_true, y_proba):\n",
        "  \"\"\"\n",
        "  Log lossを計算する関数\n",
        "  :param y_true: 正解のリスト\n",
        "  :param y_proba: 陽性の予測確率のリスト\n",
        "  :return すべてのサンプルに対するLog loss\n",
        "  \"\"\"\n",
        "  # epsilonの定義\n",
        "  # 予測確率の「クリッピング処理」に利用\n",
        "  epsilon = 1e-15\n",
        "  # 個々のサンプルに対するLog lossを格納するリスト\n",
        "  loss = []\n",
        "  # それぞれのサンプルについての ループ\n",
        "  for yt, yp in zip(y_true, y_proba):\n",
        "    # 予測確率を調整する「クリッピング処理」\n",
        "    # 0はepsilonに、1は1-epsilonに変換\n",
        "    # 理由は演習問題\n",
        "    yp = np.clip(yp, epsilon, 1 - epsilon)\n",
        "    # Log lossの計算\n",
        "    temp_loss = - 1.0 * (yt * np.log(yp) + (1 - yt) * np.log(1 - yp))\n",
        "    # リストに格納\n",
        "    loss.append(temp_loss)\n",
        "  # 平均値を返す\n",
        "  return np.mean(loss)"
      ],
      "execution_count": 41,
      "outputs": []
    },
    {
      "cell_type": "code",
      "metadata": {
        "id": "wRbXWde4M3WO"
      },
      "source": [
        "y_true = [0, 0, 0, 0, 1, 0, 1,\n",
        "          0, 0, 1, 0, 1, 0, 0, 1]"
      ],
      "execution_count": 42,
      "outputs": []
    },
    {
      "cell_type": "code",
      "metadata": {
        "id": "zWaMcyNMM3WP"
      },
      "source": [
        "y_proba = [0.1, 0.3, 0.2, 0.6, 0.8, 0.05,\n",
        "           0.9, 0.5, 0.3, 0.66, 0.3, 0.2,\n",
        "           0.85, 0.15, 0.99]"
      ],
      "execution_count": 43,
      "outputs": []
    },
    {
      "cell_type": "code",
      "metadata": {
        "id": "BSmZ2gi8NDNb",
        "colab": {
          "base_uri": "https://localhost:8080/"
        },
        "outputId": "3173fee9-a442-41ce-9dc9-8c925719354c"
      },
      "source": [
        "log_loss(y_true, y_proba)"
      ],
      "execution_count": 44,
      "outputs": [
        {
          "output_type": "execute_result",
          "data": {
            "text/plain": [
              "0.49882711861432294"
            ]
          },
          "metadata": {},
          "execution_count": 44
        }
      ]
    },
    {
      "cell_type": "code",
      "metadata": {
        "id": "e5yfbcwtNKc8"
      },
      "source": [
        "from sklearn import metrics"
      ],
      "execution_count": 45,
      "outputs": []
    },
    {
      "cell_type": "code",
      "metadata": {
        "id": "ZmTEo-PQyCc7",
        "colab": {
          "base_uri": "https://localhost:8080/"
        },
        "outputId": "c8707bfe-ab68-4234-bf33-d2215462c047"
      },
      "source": [
        "metrics.log_loss(y_true, y_proba)"
      ],
      "execution_count": 46,
      "outputs": [
        {
          "output_type": "execute_result",
          "data": {
            "text/plain": [
              "0.49882711861432294"
            ]
          },
          "metadata": {},
          "execution_count": 46
        }
      ]
    },
    {
      "cell_type": "code",
      "metadata": {
        "id": "BzMi93SlyHu2"
      },
      "source": [
        "import numpy as np\n",
        "\n",
        "def macro_precision(y_ture, y_pred):\n",
        "  \"\"\"\n",
        "  Macro averaged precisionを計算する関数\n",
        "  :param y_true: 正解のリスト\n",
        "  :param y_pred: 予測値のリスト\n",
        "  :return Macro averaged precision\n",
        "  \"\"\"\n",
        "\n",
        "  # 目的変数の重複していない値の数を調べることで、クラス数を取得\n",
        "  num_classes = len(np.unique(y_true))\n",
        "\n",
        "  # 初期化\n",
        "  precision = 0\n",
        "\n",
        "  # それぞれのクラスについてのループ\n",
        "  for class_ in range(num_classes):\n",
        "\n",
        "    # 各ループで対象としているクラスを1、それ以外を0に変換\n",
        "    temp_true = [1 if p == class_ else 0 for p in y_true]\n",
        "    temp_pred = [1 if p == class_ else 0 for p in y_pred]\n",
        "\n",
        "    # 真陽性を計算\n",
        "    tp = true_positive(temp_true, temp_pred)\n",
        "    \n",
        "    # 偽陽性を計算\n",
        "    fp = false_positive(temp_true, temp_pred)\n",
        "\n",
        "    # 適合率を計算\n",
        "    temp_precision = tp / (tp + fp)\n",
        "\n",
        "    # 適合率を足し合わせる\n",
        "    precision += temp_precision\n",
        "  \n",
        "  # 平均の適合率を返す\n",
        "  precision /= num_classes\n",
        "  return precision"
      ],
      "execution_count": 47,
      "outputs": []
    },
    {
      "cell_type": "code",
      "metadata": {
        "id": "qZjyVZE94mrL"
      },
      "source": [
        "import numpy as np\n",
        "\n",
        "def micro_precision(y_ture, y_pred):\n",
        "  \"\"\"\n",
        "  Micro averaged precisionを計算する関数\n",
        "  :param y_true: 正解のリスト\n",
        "  :param y_pred: 予測値のリスト\n",
        "  :return Micro averaged precision\n",
        "  \"\"\"\n",
        "\n",
        "  # 目的変数の重複していない値の数を調べることで、クラス数を取得\n",
        "  num_classes = len(np.unique(y_true))\n",
        "\n",
        "  # 初期化\n",
        "  tp = 0\n",
        "  fp = 0\n",
        "\n",
        "  # それぞれのクラスについてのループ\n",
        "  for class_ in range(num_classes):\n",
        "\n",
        "    # 各ループで対象としているクラスを1、それ以外を0に変換\n",
        "    temp_true = [1 if p == class_ else 0 for p in y_true]\n",
        "    temp_pred = [1 if p == class_ else 0 for p in y_pred]\n",
        "\n",
        "    # 真陽性を計算し、足し合わせる\n",
        "    tp += true_positive(temp_true, temp_pred)\n",
        "    \n",
        "    # 偽陽性を計算し、足し合わせる\n",
        "    fp += false_positive(temp_true, temp_pred)\n",
        "\n",
        "  # 適合率を返す\n",
        "  precision = tp / (tp + fp)\n",
        "  return precision"
      ],
      "execution_count": 48,
      "outputs": []
    },
    {
      "cell_type": "code",
      "metadata": {
        "id": "sZ0ORxKc5Juu"
      },
      "source": [
        "from collections import Counter\n",
        "import numpy as np\n",
        "\n",
        "def weighted_precision(y_ture, y_pred):\n",
        "  \"\"\"\n",
        "  Weighted precisionを計算する関数\n",
        "  :param y_true: 正解のリスト\n",
        "  :param y_pred: 予測値のリスト\n",
        "  :return Weighted precision\n",
        "  \"\"\"\n",
        "\n",
        "  # 目的変数の重複していない値の数を調べることで、クラス数を取得\n",
        "  num_classes = len(np.unique(y_true))\n",
        "\n",
        "  # クラスごとのサンプル数の辞書を作成\n",
        "  # 次のような辞書が得られる\n",
        "  # {0: 20, 1: 15, 2: 21}\n",
        "  class_counts = Counter(y_true)\n",
        "\n",
        "  # 初期化\n",
        "  precision = 0\n",
        "\n",
        "  # それぞれのクラスについてのループ\n",
        "  for class_ in range(num_classes):\n",
        "\n",
        "    # 各ループで対象としているクラスを1、それ以外を0に変換\n",
        "    temp_true = [1 if p == class_ else 0 for p in y_true]\n",
        "    temp_pred = [1 if p == class_ else 0 for p in y_pred]\n",
        "\n",
        "    # 真陽性と偽陽性を計算\n",
        "    tp = true_positive(temp_true, temp_pred)\n",
        "    fp = false_positive(temp_true, temp_pred)\n",
        "\n",
        "    # 適合率を計算\n",
        "    temp_precision = tp / (tp + fp)\n",
        "\n",
        "    # 適合率に重みを掛け合わせる\n",
        "    weighted_precision = class_counts[class_] * temp_precision\n",
        "\n",
        "    # 重み付きの適合率を足し合わせる\n",
        "    precision += weighted_precision\n",
        "\n",
        "  # 全サンプル数で割ることで、Weighted precisionを返す\n",
        "  overall_precision = precision / len(y_ture)\n",
        "  return overall_precision"
      ],
      "execution_count": 49,
      "outputs": []
    },
    {
      "cell_type": "code",
      "metadata": {
        "id": "Q2wVwqeV6lnU"
      },
      "source": [
        "from sklearn import metrics"
      ],
      "execution_count": 50,
      "outputs": []
    },
    {
      "cell_type": "code",
      "metadata": {
        "id": "VClkrX1b68z9"
      },
      "source": [
        "y_true = [0, 1, 2, 0, 1, 2, 0, 2, 2]"
      ],
      "execution_count": 51,
      "outputs": []
    },
    {
      "cell_type": "code",
      "metadata": {
        "id": "O2o-nu_z7C5B"
      },
      "source": [
        "y_pred = [0, 2, 1, 0, 2, 1, 0, 0, 2]"
      ],
      "execution_count": 52,
      "outputs": []
    },
    {
      "cell_type": "code",
      "metadata": {
        "id": "IEM0f9nF7Hcb",
        "colab": {
          "base_uri": "https://localhost:8080/"
        },
        "outputId": "3671c68a-50ec-4bd1-afd1-a5e6d2566d5b"
      },
      "source": [
        "macro_precision(y_true, y_pred)"
      ],
      "execution_count": 53,
      "outputs": [
        {
          "output_type": "execute_result",
          "data": {
            "text/plain": [
              "0.3611111111111111"
            ]
          },
          "metadata": {},
          "execution_count": 53
        }
      ]
    },
    {
      "cell_type": "code",
      "metadata": {
        "id": "sredXKbD7LHU",
        "colab": {
          "base_uri": "https://localhost:8080/"
        },
        "outputId": "15b373b1-8281-44e5-97b2-5ec4393543cb"
      },
      "source": [
        "metrics.precision_score(y_true, y_pred, average=\"macro\")"
      ],
      "execution_count": 54,
      "outputs": [
        {
          "output_type": "execute_result",
          "data": {
            "text/plain": [
              "0.3611111111111111"
            ]
          },
          "metadata": {},
          "execution_count": 54
        }
      ]
    },
    {
      "cell_type": "code",
      "metadata": {
        "id": "SCWbkB1Q7St4",
        "colab": {
          "base_uri": "https://localhost:8080/"
        },
        "outputId": "5e852202-15cf-4af6-c5dd-f3add41fa7d7"
      },
      "source": [
        "micro_precision(y_true, y_pred)"
      ],
      "execution_count": 55,
      "outputs": [
        {
          "output_type": "execute_result",
          "data": {
            "text/plain": [
              "0.4444444444444444"
            ]
          },
          "metadata": {},
          "execution_count": 55
        }
      ]
    },
    {
      "cell_type": "code",
      "metadata": {
        "id": "d23i7kNe7VrF",
        "colab": {
          "base_uri": "https://localhost:8080/"
        },
        "outputId": "fb2ad10f-5e8b-458b-b948-a8887d0ccc5d"
      },
      "source": [
        "metrics.precision_score(y_true, y_pred, average=\"micro\")"
      ],
      "execution_count": 56,
      "outputs": [
        {
          "output_type": "execute_result",
          "data": {
            "text/plain": [
              "0.4444444444444444"
            ]
          },
          "metadata": {},
          "execution_count": 56
        }
      ]
    },
    {
      "cell_type": "code",
      "metadata": {
        "id": "HQC9MmmF7b-m",
        "colab": {
          "base_uri": "https://localhost:8080/"
        },
        "outputId": "b228cb8b-b375-4c11-b38d-bece71e7ae02"
      },
      "source": [
        "weighted_precision(y_true, y_pred)"
      ],
      "execution_count": 57,
      "outputs": [
        {
          "output_type": "execute_result",
          "data": {
            "text/plain": [
              "0.39814814814814814"
            ]
          },
          "metadata": {},
          "execution_count": 57
        }
      ]
    },
    {
      "cell_type": "code",
      "metadata": {
        "id": "BVQ5jnRq7h5L",
        "colab": {
          "base_uri": "https://localhost:8080/"
        },
        "outputId": "23f9e368-92aa-40bf-d8f2-88092b7bac1a"
      },
      "source": [
        "metrics.precision_score(y_true, y_pred, average=\"weighted\")"
      ],
      "execution_count": 58,
      "outputs": [
        {
          "output_type": "execute_result",
          "data": {
            "text/plain": [
              "0.39814814814814814"
            ]
          },
          "metadata": {},
          "execution_count": 58
        }
      ]
    },
    {
      "cell_type": "code",
      "metadata": {
        "id": "R2Zj-TTw7rgP"
      },
      "source": [
        "from collections import Counter\n",
        "import numpy as np\n",
        "\n",
        "def weighted_f1(y_true, y_pred):\n",
        "  \"\"\"\n",
        "  F1スコアを計算する関数\n",
        "  :param y_true: 正解のリスト\n",
        "  :param y_pred: 予測値のリスト\n",
        "  :return F1スコア\n",
        "  \"\"\"\n",
        "  # 目的変数の重複していない値の数を調べることで、クラス数を取得\n",
        "  num_classes = len(np.unique(y_true))\n",
        "\n",
        "  # クラスごとのサンプル数の辞書を作成\n",
        "  # 次のような辞書が得られる:\n",
        "  # {0: 20, 1:15, 2:21}\n",
        "  class_counts = Counter(y_true)\n",
        "\n",
        "  # 初期化\n",
        "  f1 = 0\n",
        "\n",
        "  # それぞれのクラスについてのループ\n",
        "  for class_ in range(num_classes):\n",
        "    # 各ループで対象としているクラスを1、それ以外を0に変換\n",
        "    temp_true = [1 if p == class_ else 0 for p in y_true]\n",
        "    temp_pred = [1 if p == class_ else 0 for p in y_pred]\n",
        "\n",
        "    # 適合率と再現率を計算\n",
        "    p = precision(temp_true, temp_pred)\n",
        "    r = recall(temp_true, temp_pred)\n",
        "\n",
        "    # F1スコアを計算\n",
        "    if p + r != 0:\n",
        "      temp_f1 = 2 * p * r / (p + r)\n",
        "    else:\n",
        "      temp_f1 = 0\n",
        "\n",
        "    # F1スコアに重みをかけ合わせる\n",
        "    weighted_f1 = class_counts[class_] * temp_f1\n",
        "\n",
        "    # 重み付きのF1スコアを足し合わせる\n",
        "    f1 += weighted_f1\n",
        "\n",
        "  overall_f1 = f1 / len(y_true)\n",
        "  return overall_f1"
      ],
      "execution_count": 59,
      "outputs": []
    },
    {
      "cell_type": "code",
      "source": [
        "from sklearn import metrics"
      ],
      "metadata": {
        "id": "mjBX7Y4hEn6l"
      },
      "execution_count": 60,
      "outputs": []
    },
    {
      "cell_type": "code",
      "source": [
        "y_true = [0, 1, 2, 0, 1, 2, 0, 2, 2]"
      ],
      "metadata": {
        "id": "ZQyOaRnZEvyx"
      },
      "execution_count": 61,
      "outputs": []
    },
    {
      "cell_type": "code",
      "source": [
        "y_pred = [0, 2, 1, 0, 2, 1, 0, 0, 2]"
      ],
      "metadata": {
        "id": "igWafq7uE2v_"
      },
      "execution_count": 62,
      "outputs": []
    },
    {
      "cell_type": "code",
      "source": [
        "weighted_f1(y_true, y_pred)"
      ],
      "metadata": {
        "id": "YeWZrgoAE79b",
        "colab": {
          "base_uri": "https://localhost:8080/"
        },
        "outputId": "3d1427f7-a80c-4d3e-aeef-a808d9d45f96"
      },
      "execution_count": 63,
      "outputs": [
        {
          "output_type": "execute_result",
          "data": {
            "text/plain": [
              "0.41269841269841273"
            ]
          },
          "metadata": {},
          "execution_count": 63
        }
      ]
    },
    {
      "cell_type": "code",
      "source": [
        "metrics.f1_score(y_true, y_pred, average=\"weighted\")"
      ],
      "metadata": {
        "id": "QYZ_WL1zE_w8",
        "colab": {
          "base_uri": "https://localhost:8080/"
        },
        "outputId": "8677768a-9e93-4297-da93-436dfbe69bb2"
      },
      "execution_count": 64,
      "outputs": [
        {
          "output_type": "execute_result",
          "data": {
            "text/plain": [
              "0.41269841269841273"
            ]
          },
          "metadata": {},
          "execution_count": 64
        }
      ]
    },
    {
      "cell_type": "code",
      "source": [
        "import matplotlib.pyplot as plt\n",
        "import seaborn as sns\n",
        "from sklearn import metrics\n",
        "\n",
        "# 正解\n",
        "y_true = [0, 1, 2, 0, 1, 2, 0, 2, 2]\n",
        "\n",
        "# 予測値\n",
        "y_pred = [0, 2, 1, 0, 2, 1, 0, 0, 2]\n",
        "\n",
        "# クラスの初期化\n",
        "cm = metrics.confusion_matrix(y_true, y_pred)\n",
        "\n",
        "# matplotlibのseabornによる可視化\n",
        "plt.figure(figsize=(10, 10))\n",
        "cmap = sns.cubehelix_palette(50, hue=0.05, rot=0, light=0.9, dark=0, as_cmap=True)\n",
        "sns.set(font_scale=2.5)\n",
        "sns.heatmap(cm, annot=True, cmap=cmap, cbar=False)\n",
        "plt.ylabel('Actual Labels', fontsize=20)\n",
        "plt.xlabel('Predicted Labels', fontsize=20)"
      ],
      "metadata": {
        "id": "4Lbpp8slFIAr",
        "colab": {
          "base_uri": "https://localhost:8080/",
          "height": 653
        },
        "outputId": "4f0b77b0-caf9-4d8e-b079-85e5cf8ca609"
      },
      "execution_count": 65,
      "outputs": [
        {
          "output_type": "execute_result",
          "data": {
            "text/plain": [
              "Text(0.5, 48.5, 'Predicted Labels')"
            ]
          },
          "metadata": {},
          "execution_count": 65
        },
        {
          "output_type": "display_data",
          "data": {
            "image/png": "[encoded data removed]",
            "text/plain": [
              "<Figure size 720x720 with 1 Axes>"
            ]
          },
          "metadata": {
            "needs_background": "light"
          }
        }
      ]
    },
    {
      "cell_type": "code",
      "source": [
        "def pk(y_true, y_pred, k):\n",
        "  \"\"\"\n",
        "  単体のサンプルについてPrecision at kを計算する関数\n",
        "  :param y_true: 正解クラスのリスト\n",
        "  :param y_pred: 予測クラスのリスト\n",
        "  :param k: kの値\n",
        "  :return : Precision at k\n",
        "  \"\"\"\n",
        "  # kが0の場合は0を返す\n",
        "  if k == 0:\n",
        "    return 0\n",
        "  # 予測クラスのリストのうち、上位k個のみを利用\n",
        "  y_pred = y_pred[:k]\n",
        "  # 予測クラスをsetに変換して重複を排除\n",
        "  pred_set = set(y_pred)\n",
        "  # 正解クラスをsetに変換して重複を排除\n",
        "  true_set = set(y_true)\n",
        "  # 共通しているクラス数を計算\n",
        "  common_values = pred_set.intersection(true_set)\n",
        "  # kで割った値を返す\n",
        "  return len(common_values) / len(y_pred[:k])"
      ],
      "metadata": {
        "id": "gTvrPTTAGUxP"
      },
      "execution_count": 66,
      "outputs": []
    },
    {
      "cell_type": "code",
      "source": [
        "def apk(y_true, y_pred, k):\n",
        "  \"\"\"\n",
        "  単体のサンプルについてAverage precision at kを計算する関数\n",
        "  :param y_true: 正解クラスのリスト\n",
        "  :param y_pred: 予測クラスのリスト\n",
        "  :param k: kの値\n",
        "  :return : Average precision at k\n",
        "  \"\"\"\n",
        "  # リストの初期化\n",
        "  pk_values = []\n",
        "  # 1からk+1までのkについてのループ\n",
        "  for i in range(1, k+1):\n",
        "    # p@iを計算してリストに格納\n",
        "    pk_values.append(pk(y_true, y_pred, i))\n",
        "\n",
        "  # リストが空の場合、0を返す\n",
        "  if len(pk_values) == 0:\n",
        "    return 0\n",
        "  # リストの平均を返す\n",
        "  return sum(pk_values) / len(pk_values)"
      ],
      "metadata": {
        "id": "EC1UtQJ_gPIK"
      },
      "execution_count": 67,
      "outputs": []
    },
    {
      "cell_type": "code",
      "source": [
        "y_true = [\n",
        "    [1, 2, 3],\n",
        "    [0, 2],\n",
        "    [1],\n",
        "    [2, 3],\n",
        "    [1, 0],\n",
        "    []\n",
        "]"
      ],
      "metadata": {
        "id": "KkvkxTqxhE3b"
      },
      "execution_count": 68,
      "outputs": []
    },
    {
      "cell_type": "code",
      "source": [
        "y_pred = [\n",
        "    [0, 1, 2],\n",
        "    [1],\n",
        "    [0, 2, 3],\n",
        "    [2, 3, 4, 0],\n",
        "    [0, 1, 2],\n",
        "    [0]\n",
        "]"
      ],
      "metadata": {
        "id": "9kYH4XbchRwK"
      },
      "execution_count": 69,
      "outputs": []
    },
    {
      "cell_type": "code",
      "source": [
        "for i in range(len(y_true)):\n",
        "  for j in range(1, 4):\n",
        "    print(\n",
        "        f\"\"\"\n",
        "        y_true={y_true[i]},\n",
        "        y_pred={y_pred[i]},\n",
        "        AP@{j}={apk(y_true[i], y_pred[i], k=j)}\n",
        "        \"\"\"\n",
        "    )"
      ],
      "metadata": {
        "id": "3sRDiEWhhcYk",
        "colab": {
          "base_uri": "https://localhost:8080/"
        },
        "outputId": "7c52ddf2-1149-4fcf-bab0-00e2582b3128"
      },
      "execution_count": 70,
      "outputs": [
        {
          "output_type": "stream",
          "name": "stdout",
          "text": [
            "\n",
            "        y_true=[1, 2, 3],\n",
            "        y_pred=[0, 1, 2],\n",
            "        AP@1=0.0\n",
            "        \n",
            "\n",
            "        y_true=[1, 2, 3],\n",
            "        y_pred=[0, 1, 2],\n",
            "        AP@2=0.25\n",
            "        \n",
            "\n",
            "        y_true=[1, 2, 3],\n",
            "        y_pred=[0, 1, 2],\n",
            "        AP@3=0.38888888888888884\n",
            "        \n",
            "\n",
            "        y_true=[0, 2],\n",
            "        y_pred=[1],\n",
            "        AP@1=0.0\n",
            "        \n",
            "\n",
            "        y_true=[0, 2],\n",
            "        y_pred=[1],\n",
            "        AP@2=0.0\n",
            "        \n",
            "\n",
            "        y_true=[0, 2],\n",
            "        y_pred=[1],\n",
            "        AP@3=0.0\n",
            "        \n",
            "\n",
            "        y_true=[1],\n",
            "        y_pred=[0, 2, 3],\n",
            "        AP@1=0.0\n",
            "        \n",
            "\n",
            "        y_true=[1],\n",
            "        y_pred=[0, 2, 3],\n",
            "        AP@2=0.0\n",
            "        \n",
            "\n",
            "        y_true=[1],\n",
            "        y_pred=[0, 2, 3],\n",
            "        AP@3=0.0\n",
            "        \n",
            "\n",
            "        y_true=[2, 3],\n",
            "        y_pred=[2, 3, 4, 0],\n",
            "        AP@1=1.0\n",
            "        \n",
            "\n",
            "        y_true=[2, 3],\n",
            "        y_pred=[2, 3, 4, 0],\n",
            "        AP@2=1.0\n",
            "        \n",
            "\n",
            "        y_true=[2, 3],\n",
            "        y_pred=[2, 3, 4, 0],\n",
            "        AP@3=0.8888888888888888\n",
            "        \n",
            "\n",
            "        y_true=[1, 0],\n",
            "        y_pred=[0, 1, 2],\n",
            "        AP@1=1.0\n",
            "        \n",
            "\n",
            "        y_true=[1, 0],\n",
            "        y_pred=[0, 1, 2],\n",
            "        AP@2=1.0\n",
            "        \n",
            "\n",
            "        y_true=[1, 0],\n",
            "        y_pred=[0, 1, 2],\n",
            "        AP@3=0.8888888888888888\n",
            "        \n",
            "\n",
            "        y_true=[],\n",
            "        y_pred=[0],\n",
            "        AP@1=0.0\n",
            "        \n",
            "\n",
            "        y_true=[],\n",
            "        y_pred=[0],\n",
            "        AP@2=0.0\n",
            "        \n",
            "\n",
            "        y_true=[],\n",
            "        y_pred=[0],\n",
            "        AP@3=0.0\n",
            "        \n"
          ]
        }
      ]
    },
    {
      "cell_type": "code",
      "source": [
        "def mapk(y_true, y_pred, k):\n",
        "  \"\"\"\n",
        "  Mean average precision at k を計算する関数\n",
        "  :param y_true: 正解クラスのリスト\n",
        "  :param y_pred: 予測クラスのリスト\n",
        "  :param k: kの値\n",
        "  :return: Mean average precision at k\n",
        "  \"\"\"\n",
        "  # リストの初期化\n",
        "  apk_values = []\n",
        "  # それぞれのサンプルについてのループ\n",
        "  for i in range(len(y_true)):\n",
        "    # apkを計算してリストに格納\n",
        "    apk_values.append(\n",
        "        apk(y_true[i], y_pred[i], k=k)\n",
        "    )\n",
        "  # リストの平均を返す\n",
        "  return sum(apk_values) / len(apk_values)"
      ],
      "metadata": {
        "id": "Qpdv7n8ih1uK"
      },
      "execution_count": 71,
      "outputs": []
    },
    {
      "cell_type": "code",
      "source": [
        "y_true = [\n",
        "    [1, 2, 3],\n",
        "    [0, 2],\n",
        "    [1],\n",
        "    [2, 3],\n",
        "    [1, 0],\n",
        "    []\n",
        "]"
      ],
      "metadata": {
        "id": "9XsmScidC38L"
      },
      "execution_count": 72,
      "outputs": []
    },
    {
      "cell_type": "code",
      "source": [
        "y_pred = [\n",
        "    [0, 1, 2],\n",
        "    [1],\n",
        "    [0, 2, 3],\n",
        "    [2, 3, 4, 0],\n",
        "    [0, 1, 2],\n",
        "    [0]\n",
        "]"
      ],
      "metadata": {
        "id": "z-M-Q8NIC38M"
      },
      "execution_count": 73,
      "outputs": []
    },
    {
      "cell_type": "code",
      "source": [
        "mapk(y_true, y_pred, k=1)"
      ],
      "metadata": {
        "id": "z_Ps6nXeC6MG",
        "colab": {
          "base_uri": "https://localhost:8080/"
        },
        "outputId": "8a7334c4-b812-41d6-a57b-b937cb544519"
      },
      "execution_count": 74,
      "outputs": [
        {
          "output_type": "execute_result",
          "data": {
            "text/plain": [
              "0.3333333333333333"
            ]
          },
          "metadata": {},
          "execution_count": 74
        }
      ]
    },
    {
      "cell_type": "code",
      "source": [
        "mapk(y_true, y_pred, k=2)"
      ],
      "metadata": {
        "id": "YqhsGHNODCgt",
        "colab": {
          "base_uri": "https://localhost:8080/"
        },
        "outputId": "7a492ac6-f79c-4836-bc01-ec48111eb676"
      },
      "execution_count": 75,
      "outputs": [
        {
          "output_type": "execute_result",
          "data": {
            "text/plain": [
              "0.375"
            ]
          },
          "metadata": {},
          "execution_count": 75
        }
      ]
    },
    {
      "cell_type": "code",
      "source": [
        "mapk(y_true, y_pred, k=3)"
      ],
      "metadata": {
        "id": "dPHr6fs4DEN4",
        "colab": {
          "base_uri": "https://localhost:8080/"
        },
        "outputId": "db5eede5-b92c-4b7f-bdd0-67a049347b41"
      },
      "execution_count": 76,
      "outputs": [
        {
          "output_type": "execute_result",
          "data": {
            "text/plain": [
              "0.3611111111111111"
            ]
          },
          "metadata": {},
          "execution_count": 76
        }
      ]
    },
    {
      "cell_type": "code",
      "source": [
        "mapk(y_true, y_pred, k=4)"
      ],
      "metadata": {
        "id": "jPOEoDj_DFnY",
        "colab": {
          "base_uri": "https://localhost:8080/"
        },
        "outputId": "d2d42233-f20b-48f1-9f15-7acd4ebb0189"
      },
      "execution_count": 77,
      "outputs": [
        {
          "output_type": "execute_result",
          "data": {
            "text/plain": [
              "0.34722222222222215"
            ]
          },
          "metadata": {},
          "execution_count": 77
        }
      ]
    },
    {
      "cell_type": "code",
      "source": [
        "import numpy as np\n",
        "\n",
        "def apk(actual, predicted, k=10):\n",
        "  \"\"\"\n",
        "  Average precision at k を計算する関数\n",
        "  Parameters\n",
        "  ----------\n",
        "  actual  : list\n",
        "            正解クラスのリスト(順序に意味なし)\n",
        "  predicted  : list\n",
        "            予測クラスのリスト(順序に意味あり)\n",
        "  k : int, 任意\n",
        "            kの値\n",
        "  Returns\n",
        "  -------\n",
        "  score : double\n",
        "            Average precision at k\n",
        "  \"\"\"\n",
        "  if len(predicted)>k:\n",
        "    predicted = predicted[:k]\n",
        "  \n",
        "  score = 0.0\n",
        "  num_hits = 0.0\n",
        "\n",
        "  for i, p in enumerate(predicted):\n",
        "    if p in actual and p not in predicted[:i]:\n",
        "      num_hits += 1.0\n",
        "      score += num_hits / (i+1.0)\n",
        "  if not actual:\n",
        "    return 0.0\n",
        "\n",
        "  return score / min(len(actual), k)  "
      ],
      "metadata": {
        "id": "tI5ZpXrYDGfg"
      },
      "execution_count": 78,
      "outputs": []
    },
    {
      "cell_type": "code",
      "source": [
        "import numpy as np\n",
        "\n",
        "def mean_absolute_error(y_true, y_pred):\n",
        "  \"\"\"\n",
        "  平均絶対誤差を計算する関数\n",
        "  :param y_true: 正解のリスト\n",
        "  :param y_pred: 予測値のリスト\n",
        "  :return: 平均絶対誤差\n",
        "  \"\"\"\n",
        "  # 初期化\n",
        "  error = 0\n",
        "  # それぞれのサンプルについてのループ\n",
        "  for yt, yp in zip(y_true, y_pred):\n",
        "    # 絶対誤差を計算し、足し合わせる\n",
        "    error += np.abs(yt - yp)\n",
        "  # 平均を返す\n",
        "  return error / len(y_true)"
      ],
      "metadata": {
        "id": "OYS_ZxdjEayJ"
      },
      "execution_count": 79,
      "outputs": []
    },
    {
      "cell_type": "code",
      "source": [
        "def mean_squared_error(y_true, y_pred):\n",
        "  \"\"\"\n",
        "  平均二乗誤差を計算する関数\n",
        "  :param y_true: 正解のリスト\n",
        "  :param y_pred: 予測値のリスト\n",
        "  :return: 平均二乗誤差\n",
        "  \"\"\"\n",
        "  # 初期化\n",
        "  error = 0\n",
        "  # それぞれのサンプルについてのループ\n",
        "  for yt, yp in zip(y_true, y_pred):\n",
        "    # 二乗誤差を計算し、足し合わせる\n",
        "    error += (yt - yp) ** 2\n",
        "  # 平均を返す\n",
        "  return error / len(y_true)"
      ],
      "metadata": {
        "id": "WiVtkFajSYj4"
      },
      "execution_count": 80,
      "outputs": []
    },
    {
      "cell_type": "code",
      "source": [
        "import numpy as np\n",
        "\n",
        "def mean_squared_log_error(y_true, y_pred):\n",
        "  \"\"\"\n",
        "  平均二乗対数誤差を計算する関数\n",
        "  :param y_true: 正解のリスト\n",
        "  :param y_pred: 予測値のリスト\n",
        "  :return: 平均二乗対数誤差\n",
        "  \"\"\"\n",
        "  # 初期化\n",
        "  error = 0\n",
        "  # それぞれのサンプルについてのループ\n",
        "  for yt, yp in zip(y_true, y_pred):\n",
        "    # 二乗対数誤差を計算し、足し合わせる\n",
        "    error += (np.log(1 + yt) - np.log(1 + yp)) ** 2\n",
        "  # 平均を返す\n",
        "  return error / len(y_true)"
      ],
      "metadata": {
        "id": "BUOK2uI-TEx0"
      },
      "execution_count": 81,
      "outputs": []
    },
    {
      "cell_type": "code",
      "source": [
        ""
      ],
      "metadata": {
        "id": "dXeBnhyFTpUe"
      },
      "execution_count": null,
      "outputs": []
    }
  ]
}