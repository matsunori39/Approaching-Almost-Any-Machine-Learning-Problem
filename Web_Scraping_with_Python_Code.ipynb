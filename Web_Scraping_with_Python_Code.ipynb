{
  "nbformat": 4,
  "nbformat_minor": 0,
  "metadata": {
    "colab": {
      "name": "Web Scraping with Python Code.ipynb",
      "provenance": [],
      "authorship_tag": "ABX9TyMYlnSgkiyes8w2K7CalFbr",
      "include_colab_link": true
    },
    "kernelspec": {
      "name": "python3",
      "display_name": "Python 3"
    },
    "language_info": {
      "name": "python"
    }
  },
  "cells": [
    {
      "cell_type": "markdown",
      "metadata": {
        "id": "view-in-github",
        "colab_type": "text"
      },
      "source": [
        "<a href=\"https://colab.research.google.com/github/matsunori39/Approaching-Almost-Any-Machine-Learning-Problem/blob/main/Web_Scraping_with_Python_Code.ipynb\" target=\"_parent\"><img src=\"https://colab.research.google.com/assets/colab-badge.svg\" alt=\"Open In Colab\"/></a>"
      ]
    },
    {
      "cell_type": "markdown",
      "source": [
        "https://github.com/REMitchell/python-scraping"
      ],
      "metadata": {
        "id": "QMy6i13QUz2b"
      }
    },
    {
      "cell_type": "markdown",
      "source": [
        "# Chapter01_BeginningToScrape"
      ],
      "metadata": {
        "id": "7ww1D_nGU3bR"
      }
    },
    {
      "cell_type": "markdown",
      "source": [
        "## 1.1 connect"
      ],
      "metadata": {
        "id": "VBggBNuqVFNI"
      }
    },
    {
      "cell_type": "code",
      "source": [
        "from urllib.request import urlopen\n",
        "\n",
        "html = urlopen('http://pythonscraping.com/pages/page1.html')\n",
        "print(html.read())"
      ],
      "metadata": {
        "colab": {
          "base_uri": "https://localhost:8080/"
        },
        "id": "KM2f_sohViUJ",
        "outputId": "d460fcf7-e5fa-40bf-d2ba-b2b23f52159c"
      },
      "execution_count": 1,
      "outputs": [
        {
          "output_type": "stream",
          "name": "stdout",
          "text": [
            "b'<html>\\n<head>\\n<title>A Useful Page</title>\\n</head>\\n<body>\\n<h1>An Interesting Title</h1>\\n<div>\\nLorem ipsum dolor sit amet, consectetur adipisicing elit, sed do eiusmod tempor incididunt ut labore et dolore magna aliqua. Ut enim ad minim veniam, quis nostrud exercitation ullamco laboris nisi ut aliquip ex ea commodo consequat. Duis aute irure dolor in reprehenderit in voluptate velit esse cillum dolore eu fugiat nulla pariatur. Excepteur sint occaecat cupidatat non proident, sunt in culpa qui officia deserunt mollit anim id est laborum.\\n</div>\\n</body>\\n</html>\\n'\n"
          ]
        }
      ]
    },
    {
      "cell_type": "markdown",
      "source": [
        "## 1.2 My first BeautifulSoup"
      ],
      "metadata": {
        "id": "OR1OD1k_Vqq-"
      }
    },
    {
      "cell_type": "markdown",
      "source": [
        "### 1.2.1 Installing BeautifulSoup"
      ],
      "metadata": {
        "id": "t9ZSHWAoXVIV"
      }
    },
    {
      "cell_type": "code",
      "source": [
        "!pip install beautifulsoup4"
      ],
      "metadata": {
        "colab": {
          "base_uri": "https://localhost:8080/"
        },
        "id": "0-nD3zAfWYZk",
        "outputId": "6c0556a2-8759-4d12-edf5-bc54a60e2c40"
      },
      "execution_count": 2,
      "outputs": [
        {
          "output_type": "stream",
          "name": "stdout",
          "text": [
            "Requirement already satisfied: beautifulsoup4 in /usr/local/lib/python3.7/dist-packages (4.6.3)\n"
          ]
        }
      ]
    },
    {
      "cell_type": "markdown",
      "source": [
        "### 1.2.2 Execute BeautifulSoup"
      ],
      "metadata": {
        "id": "sv0dgk6VW7BC"
      }
    },
    {
      "cell_type": "code",
      "source": [
        "from urllib.request import urlopen\n",
        "from bs4 import BeautifulSoup\n",
        "\n",
        "html = urlopen('http://www.pythonscraping.com/pages/page1.html')\n",
        "bs = BeautifulSoup(html.read(), 'html.parser')\n",
        "print(bs.h1)"
      ],
      "metadata": {
        "colab": {
          "base_uri": "https://localhost:8080/"
        },
        "id": "QjKvhwOEgX-0",
        "outputId": "9b44511d-e02e-4113-c339-966607b27d98"
      },
      "execution_count": 3,
      "outputs": [
        {
          "output_type": "stream",
          "name": "stdout",
          "text": [
            "<h1>An Interesting Title</h1>\n"
          ]
        }
      ]
    },
    {
      "cell_type": "markdown",
      "source": [
        "### 1.2.3 Handle exceptions to ensure a reliable connection"
      ],
      "metadata": {
        "id": "b3RAdnEpgx-v"
      }
    },
    {
      "cell_type": "code",
      "source": [
        "from urllib.request import urlopen\n",
        "from urllib.error import HTTPError\n",
        "\n",
        "try:\n",
        "  html = urlopen('http://www.pythonscraping.com/pages/page1.html')\n",
        "except HTTPError as e:\n",
        "  print(e)\n",
        "\n",
        "else:\n",
        "  pass"
      ],
      "metadata": {
        "id": "ZGomSMs3iG0L"
      },
      "execution_count": 4,
      "outputs": []
    },
    {
      "cell_type": "code",
      "source": [
        "from urllib.request import urlopen\n",
        "from urllib.error import HTTPError\n",
        "from urllib.error import URLError\n",
        "\n",
        "try:\n",
        "  html = urlopen('http://pythonscrapingthisurldoesnotexist.com')\n",
        "except HTTPError as e:\n",
        "  print(e)\n",
        "except URLError as e:\n",
        "  print('The Server could not be found!')\n",
        "\n",
        "else:\n",
        "  print('It Worked!')"
      ],
      "metadata": {
        "colab": {
          "base_uri": "https://localhost:8080/"
        },
        "id": "irz-BRkhimSJ",
        "outputId": "741e968d-0c3e-4ea5-aefc-f1de517d1acc"
      },
      "execution_count": 5,
      "outputs": [
        {
          "output_type": "stream",
          "name": "stdout",
          "text": [
            "The Server could not be found!\n"
          ]
        }
      ]
    },
    {
      "cell_type": "code",
      "source": [
        "print(bs.nonExistentTag)"
      ],
      "metadata": {
        "colab": {
          "base_uri": "https://localhost:8080/"
        },
        "id": "QozZ02L8i70g",
        "outputId": "109a5729-49ff-4c89-e1bd-a681777bfd8b"
      },
      "execution_count": 6,
      "outputs": [
        {
          "output_type": "stream",
          "name": "stdout",
          "text": [
            "None\n"
          ]
        },
        {
          "output_type": "stream",
          "name": "stderr",
          "text": [
            "/usr/local/lib/python3.7/dist-packages/bs4/element.py:1110: UserWarning: .nonExistentTag is deprecated, use .find(\"nonExistent\") instead. If you really were looking for a tag called nonExistentTag, use .find(\"nonExistentTag\")\n",
            "  name=tag_name\n"
          ]
        }
      ]
    },
    {
      "cell_type": "code",
      "source": [
        "# print(bs.nonExistentTag.someTag)"
      ],
      "metadata": {
        "colab": {
          "base_uri": "https://localhost:8080/",
          "height": 231
        },
        "id": "sQar1Y7JjBtg",
        "outputId": "19387b61-6a1e-46fa-ed94-205efe73a944"
      },
      "execution_count": 7,
      "outputs": [
        {
          "output_type": "stream",
          "name": "stderr",
          "text": [
            "/usr/local/lib/python3.7/dist-packages/bs4/element.py:1110: UserWarning: .nonExistentTag is deprecated, use .find(\"nonExistent\") instead. If you really were looking for a tag called nonExistentTag, use .find(\"nonExistentTag\")\n",
            "  name=tag_name\n"
          ]
        },
        {
          "output_type": "error",
          "ename": "AttributeError",
          "evalue": "ignored",
          "traceback": [
            "\u001b[0;31m---------------------------------------------------------------------------\u001b[0m",
            "\u001b[0;31mAttributeError\u001b[0m                            Traceback (most recent call last)",
            "\u001b[0;32m<ipython-input-7-099e5c08ffb5>\u001b[0m in \u001b[0;36m<module>\u001b[0;34m()\u001b[0m\n\u001b[0;32m----> 1\u001b[0;31m \u001b[0mprint\u001b[0m\u001b[0;34m(\u001b[0m\u001b[0mbs\u001b[0m\u001b[0;34m.\u001b[0m\u001b[0mnonExistentTag\u001b[0m\u001b[0;34m.\u001b[0m\u001b[0msomeTag\u001b[0m\u001b[0;34m)\u001b[0m\u001b[0;34m\u001b[0m\u001b[0;34m\u001b[0m\u001b[0m\n\u001b[0m",
            "\u001b[0;31mAttributeError\u001b[0m: 'NoneType' object has no attribute 'someTag'"
          ]
        }
      ]
    },
    {
      "cell_type": "code",
      "source": [
        "try:\n",
        "  badContent = bs.nonExistentTag.anotherTag\n",
        "except AttributeError as e:\n",
        "  print('Tag was not found')\n",
        "\n",
        "else:\n",
        "  if badContent == None:\n",
        "    print('Tag was not found')\n",
        "  else:\n",
        "    print(badContent)"
      ],
      "metadata": {
        "colab": {
          "base_uri": "https://localhost:8080/"
        },
        "id": "MRd53npvjHGN",
        "outputId": "124449c4-b888-4a0c-8bce-b29786efd00f"
      },
      "execution_count": 8,
      "outputs": [
        {
          "output_type": "stream",
          "name": "stdout",
          "text": [
            "Tag was not found\n"
          ]
        },
        {
          "output_type": "stream",
          "name": "stderr",
          "text": [
            "/usr/local/lib/python3.7/dist-packages/bs4/element.py:1110: UserWarning: .nonExistentTag is deprecated, use .find(\"nonExistent\") instead. If you really were looking for a tag called nonExistentTag, use .find(\"nonExistentTag\")\n",
            "  name=tag_name\n"
          ]
        }
      ]
    },
    {
      "cell_type": "code",
      "source": [
        "from urllib.request import urlopen\n",
        "from urllib.error import HTTPError\n",
        "from urllib.error import URLError\n",
        "\n",
        "def getTitle(url):\n",
        "  try:\n",
        "    html = urlopen(url)\n",
        "  except HTTPError as e:\n",
        "    return None\n",
        "  try:\n",
        "    bs = BeautifulSoup(html.read(), 'html.parser')\n",
        "    title = bs.body.h1\n",
        "  except AttributeError as e:\n",
        "    return None\n",
        "  return title"
      ],
      "metadata": {
        "id": "R15IBfGdktP2"
      },
      "execution_count": 9,
      "outputs": []
    },
    {
      "cell_type": "code",
      "source": [
        "title = getTitle('http://www.pythonscraping.com/pages/page1.html')\n",
        "if title == None:\n",
        "  print('Title could not be found')\n",
        "else:\n",
        "  print(title)"
      ],
      "metadata": {
        "colab": {
          "base_uri": "https://localhost:8080/"
        },
        "id": "7QZNOlsqkfsq",
        "outputId": "31eaf184-4ee4-4302-c88d-42d0881dc717"
      },
      "execution_count": 10,
      "outputs": [
        {
          "output_type": "stream",
          "name": "stdout",
          "text": [
            "<h1>An Interesting Title</h1>\n"
          ]
        }
      ]
    },
    {
      "cell_type": "code",
      "source": [
        ""
      ],
      "metadata": {
        "id": "lzSyO7hhktu8"
      },
      "execution_count": null,
      "outputs": []
    }
  ]
}