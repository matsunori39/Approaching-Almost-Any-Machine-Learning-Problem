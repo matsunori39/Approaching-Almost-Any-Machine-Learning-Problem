{
  "nbformat": 4,
  "nbformat_minor": 0,
  "metadata": {
    "colab": {
      "name": "Web Scraping with Python Code.ipynb",
      "provenance": [],
      "authorship_tag": "ABX9TyN4/xsszVUJ1glkS1yZ2zuh",
      "include_colab_link": true
    },
    "kernelspec": {
      "name": "python3",
      "display_name": "Python 3"
    },
    "language_info": {
      "name": "python"
    }
  },
  "cells": [
    {
      "cell_type": "markdown",
      "metadata": {
        "id": "view-in-github",
        "colab_type": "text"
      },
      "source": [
        "<a href=\"https://colab.research.google.com/github/matsunori39/Approaching-Almost-Any-Machine-Learning-Problem/blob/main/Web_Scraping_with_Python_Code.ipynb\" target=\"_parent\"><img src=\"https://colab.research.google.com/assets/colab-badge.svg\" alt=\"Open In Colab\"/></a>"
      ]
    },
    {
      "cell_type": "markdown",
      "source": [
        "https://github.com/REMitchell/python-scraping"
      ],
      "metadata": {
        "id": "QMy6i13QUz2b"
      }
    },
    {
      "cell_type": "markdown",
      "source": [
        "# Chapter01_BeginningToScrape"
      ],
      "metadata": {
        "id": "7ww1D_nGU3bR"
      }
    },
    {
      "cell_type": "markdown",
      "source": [
        "## 1.1 connect"
      ],
      "metadata": {
        "id": "VBggBNuqVFNI"
      }
    },
    {
      "cell_type": "code",
      "source": [
        "from urllib.request import urlopen\n",
        "\n",
        "html = urlopen('http://pythonscraping.com/pages/page1.html')\n",
        "print(html.read())"
      ],
      "metadata": {
        "colab": {
          "base_uri": "https://localhost:8080/"
        },
        "id": "KM2f_sohViUJ",
        "outputId": "a5c97524-f45d-4745-9ee6-0c9b33ecbe3f"
      },
      "execution_count": 1,
      "outputs": [
        {
          "output_type": "stream",
          "name": "stdout",
          "text": [
            "b'<html>\\n<head>\\n<title>A Useful Page</title>\\n</head>\\n<body>\\n<h1>An Interesting Title</h1>\\n<div>\\nLorem ipsum dolor sit amet, consectetur adipisicing elit, sed do eiusmod tempor incididunt ut labore et dolore magna aliqua. Ut enim ad minim veniam, quis nostrud exercitation ullamco laboris nisi ut aliquip ex ea commodo consequat. Duis aute irure dolor in reprehenderit in voluptate velit esse cillum dolore eu fugiat nulla pariatur. Excepteur sint occaecat cupidatat non proident, sunt in culpa qui officia deserunt mollit anim id est laborum.\\n</div>\\n</body>\\n</html>\\n'\n"
          ]
        }
      ]
    },
    {
      "cell_type": "markdown",
      "source": [
        "## 1.2 My first BeautifulSoup"
      ],
      "metadata": {
        "id": "OR1OD1k_Vqq-"
      }
    },
    {
      "cell_type": "markdown",
      "source": [
        "### 1.2.1 Installing BeautifulSoup"
      ],
      "metadata": {
        "id": "t9ZSHWAoXVIV"
      }
    },
    {
      "cell_type": "code",
      "source": [
        "!pip install beautifulsoup4"
      ],
      "metadata": {
        "colab": {
          "base_uri": "https://localhost:8080/"
        },
        "id": "0-nD3zAfWYZk",
        "outputId": "dac6618c-cc79-452f-8290-4165fa53e297"
      },
      "execution_count": 2,
      "outputs": [
        {
          "output_type": "stream",
          "name": "stdout",
          "text": [
            "Requirement already satisfied: beautifulsoup4 in /usr/local/lib/python3.7/dist-packages (4.6.3)\n"
          ]
        }
      ]
    },
    {
      "cell_type": "markdown",
      "source": [
        "### 1.2.2 Execute BeautifulSoup"
      ],
      "metadata": {
        "id": "sv0dgk6VW7BC"
      }
    },
    {
      "cell_type": "code",
      "source": [
        "from urllib.request import urlopen\n",
        "from bs4 import BeautifulSoup\n",
        "\n",
        "html = urlopen('http://www.pythonscraping.com/pages/page1.html')\n",
        "bs = BeautifulSoup(html.read(), 'html.parser')\n",
        "print(bs.h1)"
      ],
      "metadata": {
        "colab": {
          "base_uri": "https://localhost:8080/"
        },
        "id": "QjKvhwOEgX-0",
        "outputId": "e485d164-feda-48d5-cb8f-4074a610ecc9"
      },
      "execution_count": 3,
      "outputs": [
        {
          "output_type": "stream",
          "name": "stdout",
          "text": [
            "<h1>An Interesting Title</h1>\n"
          ]
        }
      ]
    },
    {
      "cell_type": "markdown",
      "source": [
        "### 1.2.3 Handle exceptions to ensure a reliable connection"
      ],
      "metadata": {
        "id": "b3RAdnEpgx-v"
      }
    },
    {
      "cell_type": "code",
      "source": [
        "from urllib.request import urlopen\n",
        "from urllib.error import HTTPError\n",
        "\n",
        "try:\n",
        "  html = urlopen('http://www.pythonscraping.com/pages/page1.html')\n",
        "except HTTPError as e:\n",
        "  print(e)\n",
        "\n",
        "else:\n",
        "  pass"
      ],
      "metadata": {
        "id": "ZGomSMs3iG0L"
      },
      "execution_count": 4,
      "outputs": []
    },
    {
      "cell_type": "code",
      "source": [
        "from urllib.request import urlopen\n",
        "from urllib.error import HTTPError\n",
        "from urllib.error import URLError\n",
        "\n",
        "try:\n",
        "  html = urlopen('http://pythonscrapingthisurldoesnotexist.com')\n",
        "except HTTPError as e:\n",
        "  print(e)\n",
        "except URLError as e:\n",
        "  print('The Server could not be found!')\n",
        "\n",
        "else:\n",
        "  print('It Worked!')"
      ],
      "metadata": {
        "colab": {
          "base_uri": "https://localhost:8080/"
        },
        "id": "irz-BRkhimSJ",
        "outputId": "5f4c9750-1084-4867-fa3b-52017966d550"
      },
      "execution_count": 5,
      "outputs": [
        {
          "output_type": "stream",
          "name": "stdout",
          "text": [
            "The Server could not be found!\n"
          ]
        }
      ]
    },
    {
      "cell_type": "code",
      "source": [
        "print(bs.nonExistentTag)"
      ],
      "metadata": {
        "colab": {
          "base_uri": "https://localhost:8080/"
        },
        "id": "QozZ02L8i70g",
        "outputId": "5945a741-ebcc-4df7-d555-085fabf93056"
      },
      "execution_count": 6,
      "outputs": [
        {
          "output_type": "stream",
          "name": "stdout",
          "text": [
            "None\n"
          ]
        },
        {
          "output_type": "stream",
          "name": "stderr",
          "text": [
            "/usr/local/lib/python3.7/dist-packages/bs4/element.py:1110: UserWarning: .nonExistentTag is deprecated, use .find(\"nonExistent\") instead. If you really were looking for a tag called nonExistentTag, use .find(\"nonExistentTag\")\n",
            "  name=tag_name\n"
          ]
        }
      ]
    },
    {
      "cell_type": "code",
      "source": [
        "# print(bs.nonExistentTag.someTag)"
      ],
      "metadata": {
        "id": "sQar1Y7JjBtg"
      },
      "execution_count": 7,
      "outputs": []
    },
    {
      "cell_type": "code",
      "source": [
        "try:\n",
        "  badContent = bs.nonExistentTag.anotherTag\n",
        "except AttributeError as e:\n",
        "  print('Tag was not found')\n",
        "\n",
        "else:\n",
        "  if badContent == None:\n",
        "    print('Tag was not found')\n",
        "  else:\n",
        "    print(badContent)"
      ],
      "metadata": {
        "colab": {
          "base_uri": "https://localhost:8080/"
        },
        "id": "MRd53npvjHGN",
        "outputId": "acb36f1e-0e81-4402-d173-c6110743a33a"
      },
      "execution_count": 8,
      "outputs": [
        {
          "output_type": "stream",
          "name": "stdout",
          "text": [
            "Tag was not found\n"
          ]
        },
        {
          "output_type": "stream",
          "name": "stderr",
          "text": [
            "/usr/local/lib/python3.7/dist-packages/bs4/element.py:1110: UserWarning: .nonExistentTag is deprecated, use .find(\"nonExistent\") instead. If you really were looking for a tag called nonExistentTag, use .find(\"nonExistentTag\")\n",
            "  name=tag_name\n"
          ]
        }
      ]
    },
    {
      "cell_type": "code",
      "source": [
        "from urllib.request import urlopen\n",
        "from urllib.error import HTTPError\n",
        "from urllib.error import URLError\n",
        "\n",
        "def getTitle(url):\n",
        "  try:\n",
        "    html = urlopen(url)\n",
        "  except HTTPError as e:\n",
        "    return None\n",
        "  try:\n",
        "    bs = BeautifulSoup(html.read(), 'html.parser')\n",
        "    title = bs.body.h1\n",
        "  except AttributeError as e:\n",
        "    return None\n",
        "  return title"
      ],
      "metadata": {
        "id": "R15IBfGdktP2"
      },
      "execution_count": 9,
      "outputs": []
    },
    {
      "cell_type": "code",
      "source": [
        "title = getTitle('http://www.pythonscraping.com/pages/page1.html')\n",
        "if title == None:\n",
        "  print('Title could not be found')\n",
        "else:\n",
        "  print(title)"
      ],
      "metadata": {
        "colab": {
          "base_uri": "https://localhost:8080/"
        },
        "id": "7QZNOlsqkfsq",
        "outputId": "96606fbe-eeea-4199-934c-6cf8be49c094"
      },
      "execution_count": 10,
      "outputs": [
        {
          "output_type": "stream",
          "name": "stdout",
          "text": [
            "<h1>An Interesting Title</h1>\n"
          ]
        }
      ]
    },
    {
      "cell_type": "markdown",
      "source": [
        "# Chapter02-AdvancedHTMLParsing"
      ],
      "metadata": {
        "id": "lzSyO7hhktu8"
      }
    },
    {
      "cell_type": "markdown",
      "source": [
        "## 2.2 How to use BeautifulSoup"
      ],
      "metadata": {
        "id": "Bp91pywN9lHO"
      }
    },
    {
      "cell_type": "code",
      "source": [
        "from urllib.request import urlopen\n",
        "from bs4 import BeautifulSoup\n",
        "\n",
        "html = urlopen('http://www.pythonscraping.com/pages/warandpeace.html')\n",
        "bs = BeautifulSoup(html.read(), 'html.parser')"
      ],
      "metadata": {
        "id": "lQi3XeAY94-d"
      },
      "execution_count": 11,
      "outputs": []
    },
    {
      "cell_type": "code",
      "source": [
        "nameList = bs.find_all('span', {'class':'green'})\n",
        "for name in nameList:\n",
        "  print(name.get_text())"
      ],
      "metadata": {
        "colab": {
          "base_uri": "https://localhost:8080/"
        },
        "id": "d3auFQ1--PbY",
        "outputId": "408dbc68-4bfb-40be-e1d2-ddde2f055b87"
      },
      "execution_count": 12,
      "outputs": [
        {
          "output_type": "stream",
          "name": "stdout",
          "text": [
            "Anna\n",
            "Pavlovna Scherer\n",
            "Empress Marya\n",
            "Fedorovna\n",
            "Prince Vasili Kuragin\n",
            "Anna Pavlovna\n",
            "St. Petersburg\n",
            "the prince\n",
            "Anna Pavlovna\n",
            "Anna Pavlovna\n",
            "the prince\n",
            "the prince\n",
            "the prince\n",
            "Prince Vasili\n",
            "Anna Pavlovna\n",
            "Anna Pavlovna\n",
            "the prince\n",
            "Wintzingerode\n",
            "King of Prussia\n",
            "le Vicomte de Mortemart\n",
            "Montmorencys\n",
            "Rohans\n",
            "Abbe Morio\n",
            "the Emperor\n",
            "the prince\n",
            "Prince Vasili\n",
            "Dowager Empress Marya Fedorovna\n",
            "the baron\n",
            "Anna Pavlovna\n",
            "the Empress\n",
            "the Empress\n",
            "Anna Pavlovna's\n",
            "Her Majesty\n",
            "Baron\n",
            "Funke\n",
            "The prince\n",
            "Anna\n",
            "Pavlovna\n",
            "the Empress\n",
            "The prince\n",
            "Anatole\n",
            "the prince\n",
            "The prince\n",
            "Anna\n",
            "Pavlovna\n",
            "Anna Pavlovna\n"
          ]
        }
      ]
    },
    {
      "cell_type": "markdown",
      "source": [
        "### 2.2.1 BeautifulSoup's find() and find_all()"
      ],
      "metadata": {
        "id": "g4-5HrBa-d9s"
      }
    },
    {
      "cell_type": "code",
      "source": [
        "titles = bs.find_all(['h1', 'h2', 'h3', 'h4', 'h5', 'h6'])\n",
        "print([title for title in titles])"
      ],
      "metadata": {
        "colab": {
          "base_uri": "https://localhost:8080/"
        },
        "id": "FmPk1JeB_YfO",
        "outputId": "86c23e6d-4da4-4944-e089-e66c114f93a6"
      },
      "execution_count": 13,
      "outputs": [
        {
          "output_type": "stream",
          "name": "stdout",
          "text": [
            "[<h1>War and Peace</h1>, <h2>Chapter 1</h2>]\n"
          ]
        }
      ]
    },
    {
      "cell_type": "code",
      "source": [
        "allText = bs.find_all('span', {'class': {'green', 'red'}})\n",
        "print([text for text in allText])"
      ],
      "metadata": {
        "colab": {
          "base_uri": "https://localhost:8080/"
        },
        "id": "ABcZl6h1_gFp",
        "outputId": "8c2314f8-b6ba-48a4-e91a-f95134667cdc"
      },
      "execution_count": 14,
      "outputs": [
        {
          "output_type": "stream",
          "name": "stdout",
          "text": [
            "[<span class=\"red\">Well, Prince, so Genoa and Lucca are now just family estates of the\n",
            "Buonapartes. But I warn you, if you don't tell me that this means war,\n",
            "if you still try to defend the infamies and horrors perpetrated by\n",
            "that Antichrist- I really believe he is Antichrist- I will have\n",
            "nothing more to do with you and you are no longer my friend, no longer\n",
            "my 'faithful slave,' as you call yourself! But how do you do? I see\n",
            "I have frightened you- sit down and tell me all the news.</span>, <span class=\"green\">Anna\n",
            "Pavlovna Scherer</span>, <span class=\"green\">Empress Marya\n",
            "Fedorovna</span>, <span class=\"green\">Prince Vasili Kuragin</span>, <span class=\"green\">Anna Pavlovna</span>, <span class=\"green\">St. Petersburg</span>, <span class=\"red\">If you have nothing better to do, Count [or Prince], and if the\n",
            "prospect of spending an evening with a poor invalid is not too\n",
            "terrible, I shall be very charmed to see you tonight between 7 and 10-\n",
            "Annette Scherer.</span>, <span class=\"red\">Heavens! what a virulent attack!</span>, <span class=\"green\">the prince</span>, <span class=\"green\">Anna Pavlovna</span>, <span class=\"red\">First of all, dear friend, tell me how you are. Set your friend's\n",
            "mind at rest,</span>, <span class=\"red\">Can one be well while suffering morally? Can one be calm in times\n",
            "like these if one has any feeling?</span>, <span class=\"green\">Anna Pavlovna</span>, <span class=\"red\">You are\n",
            "staying the whole evening, I hope?</span>, <span class=\"red\">And the fete at the English ambassador's? Today is Wednesday. I\n",
            "must put in an appearance there,</span>, <span class=\"green\">the prince</span>, <span class=\"red\">My daughter is\n",
            "coming for me to take me there.</span>, <span class=\"red\">I thought today's fete had been canceled. I confess all these\n",
            "festivities and fireworks are becoming wearisome.</span>, <span class=\"red\">If they had known that you wished it, the entertainment would\n",
            "have been put off,</span>, <span class=\"green\">the prince</span>, <span class=\"red\">Don't tease! Well, and what has been decided about Novosiltsev's\n",
            "dispatch? You know everything.</span>, <span class=\"red\">What can one say about it?</span>, <span class=\"green\">the prince</span>, <span class=\"red\">What has been decided? They have decided that\n",
            "Buonaparte has burnt his boats, and I believe that we are ready to\n",
            "burn ours.</span>, <span class=\"green\">Prince Vasili</span>, <span class=\"green\">Anna Pavlovna</span>, <span class=\"green\">Anna Pavlovna</span>, <span class=\"red\">Oh, don't speak to me of Austria. Perhaps I don't understand\n",
            "things, but Austria never has wished, and does not wish, for war.\n",
            "She is betraying us! Russia alone must save Europe. Our gracious\n",
            "sovereign recognizes his high vocation and will be true to it. That is\n",
            "the one thing I have faith in! Our good and wonderful sovereign has to\n",
            "perform the noblest role on earth, and he is so virtuous and noble\n",
            "that God will not forsake him. He will fulfill his vocation and\n",
            "crush the hydra of revolution, which has become more terrible than\n",
            "ever in the person of this murderer and villain! We alone must\n",
            "avenge the blood of the just one.... Whom, I ask you, can we rely\n",
            "on?... England with her commercial spirit will not and cannot\n",
            "understand the Emperor Alexander's loftiness of soul. She has\n",
            "refused to evacuate Malta. She wanted to find, and still seeks, some\n",
            "secret motive in our actions. What answer did Novosiltsev get? None.\n",
            "The English have not understood and cannot understand the\n",
            "self-abnegation of our Emperor who wants nothing for himself, but only\n",
            "desires the good of mankind. And what have they promised? Nothing! And\n",
            "what little they have promised they will not perform! Prussia has\n",
            "always declared that Buonaparte is invincible, and that all Europe\n",
            "is powerless before him.... And I don't believe a word that Hardenburg\n",
            "says, or Haugwitz either. This famous Prussian neutrality is just a\n",
            "trap. I have faith only in God and the lofty destiny of our adored\n",
            "monarch. He will save Europe!</span>, <span class=\"red\">I think,</span>, <span class=\"green\">the prince</span>, <span class=\"red\">that if you had been\n",
            "sent instead of our dear <span class=\"green\">Wintzingerode</span> you would have captured the\n",
            "<span class=\"green\">King of Prussia</span>'s consent by assault. You are so eloquent. Will you\n",
            "give me a cup of tea?</span>, <span class=\"green\">Wintzingerode</span>, <span class=\"green\">King of Prussia</span>, <span class=\"red\">In a moment. A propos,</span>, <span class=\"red\">I am\n",
            "expecting two very interesting men tonight, <span class=\"green\">le Vicomte de Mortemart</span>,\n",
            "who is connected with the <span class=\"green\">Montmorencys</span> through the <span class=\"green\">Rohans</span>, one of\n",
            "the best French families. He is one of the genuine emigres, the good\n",
            "ones. And also the <span class=\"green\">Abbe Morio</span>. Do you know that profound thinker? He\n",
            "has been received by <span class=\"green\">the Emperor</span>. Had you heard?</span>, <span class=\"green\">le Vicomte de Mortemart</span>, <span class=\"green\">Montmorencys</span>, <span class=\"green\">Rohans</span>, <span class=\"green\">Abbe Morio</span>, <span class=\"green\">the Emperor</span>, <span class=\"red\">I shall be delighted to meet them,</span>, <span class=\"green\">the prince</span>, <span class=\"red\">But tell me,</span>, <span class=\"red\">is it true that the Dowager Empress wants Baron Funke\n",
            "to be appointed first secretary at Vienna? The baron by all accounts\n",
            "is a poor creature.</span>, <span class=\"green\">Prince Vasili</span>, <span class=\"green\">Dowager Empress Marya Fedorovna</span>, <span class=\"green\">the baron</span>, <span class=\"green\">Anna Pavlovna</span>, <span class=\"green\">the Empress</span>, <span class=\"red\">Baron Funke has been recommended to the Dowager Empress by her\n",
            "sister,</span>, <span class=\"green\">the Empress</span>, <span class=\"green\">Anna Pavlovna's</span>, <span class=\"green\">Her Majesty</span>, <span class=\"green\">Baron\n",
            "Funke</span>, <span class=\"green\">The prince</span>, <span class=\"green\">Anna\n",
            "Pavlovna</span>, <span class=\"green\">the Empress</span>, <span class=\"red\">Now about your family. Do you know that since your daughter came\n",
            "out everyone has been enraptured by her? They say she is amazingly\n",
            "beautiful.</span>, <span class=\"green\">The prince</span>, <span class=\"red\">I often think,</span>, <span class=\"red\">I often think how unfairly sometimes the\n",
            "joys of life are distributed. Why has fate given you two such splendid\n",
            "children? I don't speak of <span class=\"green\">Anatole</span>, your youngest. I don't like\n",
            "him,</span>, <span class=\"green\">Anatole</span>, <span class=\"red\">Two such charming children. And really you appreciate\n",
            "them less than anyone, and so you don't deserve to have them.</span>, <span class=\"red\">I can't help it,</span>, <span class=\"green\">the prince</span>, <span class=\"red\">Lavater would have said I\n",
            "lack the bump of paternity.</span>, <span class=\"red\">Don't joke; I mean to have a serious talk with you. Do you know I\n",
            "am dissatisfied with your younger son? Between ourselves</span>, <span class=\"red\">he was mentioned at Her\n",
            "Majesty's and you were pitied....</span>, <span class=\"green\">The prince</span>, <span class=\"red\">What would you have me do?</span>, <span class=\"red\">You know I did all\n",
            "a father could for their education, and they have both turned out\n",
            "fools. Hippolyte is at least a quiet fool, but Anatole is an active\n",
            "one. That is the only difference between them.</span>, <span class=\"red\">And why are children born to such men as you? If you were not a\n",
            "father there would be nothing I could reproach you with,</span>, <span class=\"green\">Anna\n",
            "Pavlovna</span>, <span class=\"red\">I am your faithful slave and to you alone I can confess that my\n",
            "children are the bane of my life. It is the cross I have to bear. That\n",
            "is how I explain it to myself. It can't be helped!</span>, <span class=\"green\">Anna Pavlovna</span>]\n"
          ]
        }
      ]
    },
    {
      "cell_type": "code",
      "source": [
        "nameList = bs.find_all(text='the prince')\n",
        "print(len(nameList))"
      ],
      "metadata": {
        "colab": {
          "base_uri": "https://localhost:8080/"
        },
        "id": "Jvxdw5Y_AhAe",
        "outputId": "cf9315c6-b45a-42dc-c16b-66afa9252dfc"
      },
      "execution_count": 15,
      "outputs": [
        {
          "output_type": "stream",
          "name": "stdout",
          "text": [
            "7\n"
          ]
        }
      ]
    },
    {
      "cell_type": "markdown",
      "source": [
        "### 2.2.3 Tree Navigation"
      ],
      "metadata": {
        "id": "AYDSmSMgAmMr"
      }
    },
    {
      "cell_type": "markdown",
      "source": [
        "#### 2.2.3.1 Dealing with children and other descendants"
      ],
      "metadata": {
        "id": "OS_ysqL6Bmed"
      }
    },
    {
      "cell_type": "markdown",
      "source": [
        "https://www.pythonscraping.com/pages/page3.html"
      ],
      "metadata": {
        "id": "Mhz_Dmn0E72n"
      }
    },
    {
      "cell_type": "code",
      "source": [
        "from urllib.request import urlopen\n",
        "from bs4 import BeautifulSoup\n",
        "\n",
        "html = urlopen('http://www.pythonscraping.com/pages/page3.html')\n",
        "bs = BeautifulSoup(html, 'html.parser')\n",
        "\n",
        "for child in bs.find('table', {'id': 'giftList'}).children:\n",
        "  print(child)"
      ],
      "metadata": {
        "colab": {
          "base_uri": "https://localhost:8080/"
        },
        "id": "RQX3upZrB2MM",
        "outputId": "ab5c0a9b-4729-4392-938e-26fad074db0e"
      },
      "execution_count": 16,
      "outputs": [
        {
          "output_type": "stream",
          "name": "stdout",
          "text": [
            "\n",
            "\n",
            "<tr><th>\n",
            "Item Title\n",
            "</th><th>\n",
            "Description\n",
            "</th><th>\n",
            "Cost\n",
            "</th><th>\n",
            "Image\n",
            "</th></tr>\n",
            "\n",
            "\n",
            "<tr class=\"gift\" id=\"gift1\"><td>\n",
            "Vegetable Basket\n",
            "</td><td>\n",
            "This vegetable basket is the perfect gift for your health conscious (or overweight) friends!\n",
            "<span class=\"excitingNote\">Now with super-colorful bell peppers!</span>\n",
            "</td><td>\n",
            "$15.00\n",
            "</td><td>\n",
            "<img src=\"../img/gifts/img1.jpg\"/>\n",
            "</td></tr>\n",
            "\n",
            "\n",
            "<tr class=\"gift\" id=\"gift2\"><td>\n",
            "Russian Nesting Dolls\n",
            "</td><td>\n",
            "Hand-painted by trained monkeys, these exquisite dolls are priceless! And by \"priceless,\" we mean \"extremely expensive\"! <span class=\"excitingNote\">8 entire dolls per set! Octuple the presents!</span>\n",
            "</td><td>\n",
            "$10,000.52\n",
            "</td><td>\n",
            "<img src=\"../img/gifts/img2.jpg\"/>\n",
            "</td></tr>\n",
            "\n",
            "\n",
            "<tr class=\"gift\" id=\"gift3\"><td>\n",
            "Fish Painting\n",
            "</td><td>\n",
            "If something seems fishy about this painting, it's because it's a fish! <span class=\"excitingNote\">Also hand-painted by trained monkeys!</span>\n",
            "</td><td>\n",
            "$10,005.00\n",
            "</td><td>\n",
            "<img src=\"../img/gifts/img3.jpg\"/>\n",
            "</td></tr>\n",
            "\n",
            "\n",
            "<tr class=\"gift\" id=\"gift4\"><td>\n",
            "Dead Parrot\n",
            "</td><td>\n",
            "This is an ex-parrot! <span class=\"excitingNote\">Or maybe he's only resting?</span>\n",
            "</td><td>\n",
            "$0.50\n",
            "</td><td>\n",
            "<img src=\"../img/gifts/img4.jpg\"/>\n",
            "</td></tr>\n",
            "\n",
            "\n",
            "<tr class=\"gift\" id=\"gift5\"><td>\n",
            "Mystery Box\n",
            "</td><td>\n",
            "If you love suprises, this mystery box is for you! Do not place on light-colored surfaces. May cause oil staining. <span class=\"excitingNote\">Keep your friends guessing!</span>\n",
            "</td><td>\n",
            "$1.50\n",
            "</td><td>\n",
            "<img src=\"../img/gifts/img6.jpg\"/>\n",
            "</td></tr>\n",
            "\n",
            "\n"
          ]
        }
      ]
    },
    {
      "cell_type": "markdown",
      "source": [
        "#### 2.2.3.2 Dealing with siblings"
      ],
      "metadata": {
        "id": "Qyu_XDccCpk1"
      }
    },
    {
      "cell_type": "code",
      "source": [
        "from urllib.request import urlopen\n",
        "from bs4 import BeautifulSoup\n",
        "\n",
        "html = urlopen('http://www.pythonscraping.com/pages/page3.html')\n",
        "bs = BeautifulSoup(html, 'html.parser')\n",
        "\n",
        "for sibling in bs.find('table', {'id': 'giftList'}).tr.next_siblings:\n",
        "  print(sibling)"
      ],
      "metadata": {
        "colab": {
          "base_uri": "https://localhost:8080/"
        },
        "id": "P90pRLY3C5mr",
        "outputId": "20b390c2-a04d-4ce7-ad62-06311c3dbf33"
      },
      "execution_count": 17,
      "outputs": [
        {
          "output_type": "stream",
          "name": "stdout",
          "text": [
            "\n",
            "\n",
            "<tr class=\"gift\" id=\"gift1\"><td>\n",
            "Vegetable Basket\n",
            "</td><td>\n",
            "This vegetable basket is the perfect gift for your health conscious (or overweight) friends!\n",
            "<span class=\"excitingNote\">Now with super-colorful bell peppers!</span>\n",
            "</td><td>\n",
            "$15.00\n",
            "</td><td>\n",
            "<img src=\"../img/gifts/img1.jpg\"/>\n",
            "</td></tr>\n",
            "\n",
            "\n",
            "<tr class=\"gift\" id=\"gift2\"><td>\n",
            "Russian Nesting Dolls\n",
            "</td><td>\n",
            "Hand-painted by trained monkeys, these exquisite dolls are priceless! And by \"priceless,\" we mean \"extremely expensive\"! <span class=\"excitingNote\">8 entire dolls per set! Octuple the presents!</span>\n",
            "</td><td>\n",
            "$10,000.52\n",
            "</td><td>\n",
            "<img src=\"../img/gifts/img2.jpg\"/>\n",
            "</td></tr>\n",
            "\n",
            "\n",
            "<tr class=\"gift\" id=\"gift3\"><td>\n",
            "Fish Painting\n",
            "</td><td>\n",
            "If something seems fishy about this painting, it's because it's a fish! <span class=\"excitingNote\">Also hand-painted by trained monkeys!</span>\n",
            "</td><td>\n",
            "$10,005.00\n",
            "</td><td>\n",
            "<img src=\"../img/gifts/img3.jpg\"/>\n",
            "</td></tr>\n",
            "\n",
            "\n",
            "<tr class=\"gift\" id=\"gift4\"><td>\n",
            "Dead Parrot\n",
            "</td><td>\n",
            "This is an ex-parrot! <span class=\"excitingNote\">Or maybe he's only resting?</span>\n",
            "</td><td>\n",
            "$0.50\n",
            "</td><td>\n",
            "<img src=\"../img/gifts/img4.jpg\"/>\n",
            "</td></tr>\n",
            "\n",
            "\n",
            "<tr class=\"gift\" id=\"gift5\"><td>\n",
            "Mystery Box\n",
            "</td><td>\n",
            "If you love suprises, this mystery box is for you! Do not place on light-colored surfaces. May cause oil staining. <span class=\"excitingNote\">Keep your friends guessing!</span>\n",
            "</td><td>\n",
            "$1.50\n",
            "</td><td>\n",
            "<img src=\"../img/gifts/img6.jpg\"/>\n",
            "</td></tr>\n",
            "\n",
            "\n"
          ]
        }
      ]
    },
    {
      "cell_type": "markdown",
      "source": [
        "#### 2.2.3.3 Dealing with parents"
      ],
      "metadata": {
        "id": "4wo6twKMDfZ3"
      }
    },
    {
      "cell_type": "code",
      "source": [
        "from urllib.request import urlopen\n",
        "from bs4 import BeautifulSoup\n",
        "\n",
        "html = urlopen('http://www.pythonscraping.com/pages/page3.html')\n",
        "bs = BeautifulSoup(html, 'html.parser')\n",
        "print(bs.find('img',\n",
        "              {'src': '../img/gifts/img1.jpg'})\n",
        "      .parent.previous_sibling.get_text())"
      ],
      "metadata": {
        "colab": {
          "base_uri": "https://localhost:8080/"
        },
        "id": "fGcMjj8REC60",
        "outputId": "35a5724e-d525-4aa6-c900-bbd872437c5a"
      },
      "execution_count": 18,
      "outputs": [
        {
          "output_type": "stream",
          "name": "stdout",
          "text": [
            "\n",
            "$15.00\n",
            "\n"
          ]
        }
      ]
    },
    {
      "cell_type": "markdown",
      "source": [
        "## 2.4 Regular Expressions and BeautifulSoup"
      ],
      "metadata": {
        "id": "lUR9tHioEjmA"
      }
    },
    {
      "cell_type": "code",
      "source": [
        "from urllib.request import urlopen\n",
        "from bs4 import BeautifulSoup\n",
        "import re\n",
        "\n",
        "html = urlopen('http://www.pythonscraping.com/pages/page3.html')\n",
        "bs = BeautifulSoup(html, 'html.parser')\n",
        "images = bs.find_all('img',\n",
        "    {'src': re.compile('..\\/img\\/gifts/img.*.jpg')})\n",
        "for image in images:\n",
        "  print(image)"
      ],
      "metadata": {
        "colab": {
          "base_uri": "https://localhost:8080/"
        },
        "id": "VAh9hPHYxWIO",
        "outputId": "81cc8702-9f75-4404-fedb-d30703bbb5a7"
      },
      "execution_count": 19,
      "outputs": [
        {
          "output_type": "stream",
          "name": "stdout",
          "text": [
            "<img src=\"../img/gifts/img1.jpg\"/>\n",
            "<img src=\"../img/gifts/img2.jpg\"/>\n",
            "<img src=\"../img/gifts/img3.jpg\"/>\n",
            "<img src=\"../img/gifts/img4.jpg\"/>\n",
            "<img src=\"../img/gifts/img6.jpg\"/>\n"
          ]
        }
      ]
    },
    {
      "cell_type": "markdown",
      "source": [
        "## 2.6 lambda expression"
      ],
      "metadata": {
        "id": "X25HjoLCx9w1"
      }
    },
    {
      "cell_type": "code",
      "source": [
        "bs.find_all(lambda tag: len(tag.attrs) == 2)"
      ],
      "metadata": {
        "colab": {
          "base_uri": "https://localhost:8080/"
        },
        "id": "4byQVquuzJSq",
        "outputId": "b636c544-889f-46d6-9152-0c0b381a2f97"
      },
      "execution_count": 20,
      "outputs": [
        {
          "output_type": "execute_result",
          "data": {
            "text/plain": [
              "[<img src=\"../img/gifts/logo.jpg\" style=\"float:left;\"/>,\n",
              " <tr class=\"gift\" id=\"gift1\"><td>\n",
              " Vegetable Basket\n",
              " </td><td>\n",
              " This vegetable basket is the perfect gift for your health conscious (or overweight) friends!\n",
              " <span class=\"excitingNote\">Now with super-colorful bell peppers!</span>\n",
              " </td><td>\n",
              " $15.00\n",
              " </td><td>\n",
              " <img src=\"../img/gifts/img1.jpg\"/>\n",
              " </td></tr>,\n",
              " <tr class=\"gift\" id=\"gift2\"><td>\n",
              " Russian Nesting Dolls\n",
              " </td><td>\n",
              " Hand-painted by trained monkeys, these exquisite dolls are priceless! And by \"priceless,\" we mean \"extremely expensive\"! <span class=\"excitingNote\">8 entire dolls per set! Octuple the presents!</span>\n",
              " </td><td>\n",
              " $10,000.52\n",
              " </td><td>\n",
              " <img src=\"../img/gifts/img2.jpg\"/>\n",
              " </td></tr>,\n",
              " <tr class=\"gift\" id=\"gift3\"><td>\n",
              " Fish Painting\n",
              " </td><td>\n",
              " If something seems fishy about this painting, it's because it's a fish! <span class=\"excitingNote\">Also hand-painted by trained monkeys!</span>\n",
              " </td><td>\n",
              " $10,005.00\n",
              " </td><td>\n",
              " <img src=\"../img/gifts/img3.jpg\"/>\n",
              " </td></tr>,\n",
              " <tr class=\"gift\" id=\"gift4\"><td>\n",
              " Dead Parrot\n",
              " </td><td>\n",
              " This is an ex-parrot! <span class=\"excitingNote\">Or maybe he's only resting?</span>\n",
              " </td><td>\n",
              " $0.50\n",
              " </td><td>\n",
              " <img src=\"../img/gifts/img4.jpg\"/>\n",
              " </td></tr>,\n",
              " <tr class=\"gift\" id=\"gift5\"><td>\n",
              " Mystery Box\n",
              " </td><td>\n",
              " If you love suprises, this mystery box is for you! Do not place on light-colored surfaces. May cause oil staining. <span class=\"excitingNote\">Keep your friends guessing!</span>\n",
              " </td><td>\n",
              " $1.50\n",
              " </td><td>\n",
              " <img src=\"../img/gifts/img6.jpg\"/>\n",
              " </td></tr>]"
            ]
          },
          "metadata": {},
          "execution_count": 20
        }
      ]
    },
    {
      "cell_type": "code",
      "source": [
        "bs.find_all(lambda tag: tag.get_text() == 'Or maybe he\\'s only resting?')"
      ],
      "metadata": {
        "colab": {
          "base_uri": "https://localhost:8080/"
        },
        "id": "vIhnfNRazPVS",
        "outputId": "f50c17e7-9a05-4c0f-9e5a-908c3b982995"
      },
      "execution_count": 21,
      "outputs": [
        {
          "output_type": "execute_result",
          "data": {
            "text/plain": [
              "[<span class=\"excitingNote\">Or maybe he's only resting?</span>]"
            ]
          },
          "metadata": {},
          "execution_count": 21
        }
      ]
    },
    {
      "cell_type": "code",
      "source": [
        "bs.find_all('', text='Or maybe he\\'s only resting?')"
      ],
      "metadata": {
        "colab": {
          "base_uri": "https://localhost:8080/"
        },
        "id": "S9-myX0OzjyH",
        "outputId": "013d0519-5f68-4895-93dc-547c43fb888a"
      },
      "execution_count": 22,
      "outputs": [
        {
          "output_type": "execute_result",
          "data": {
            "text/plain": [
              "[\"Or maybe he's only resting?\"]"
            ]
          },
          "metadata": {},
          "execution_count": 22
        }
      ]
    },
    {
      "cell_type": "code",
      "source": [
        ""
      ],
      "metadata": {
        "id": "6GlYJF-YzrM_"
      },
      "execution_count": null,
      "outputs": []
    }
  ]
}